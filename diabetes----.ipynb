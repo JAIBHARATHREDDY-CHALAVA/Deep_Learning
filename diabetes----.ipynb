{
 "cells": [
  {
   "cell_type": "code",
   "execution_count": 35,
   "id": "3b9c2061",
   "metadata": {
    "ExecuteTime": {
     "end_time": "2023-05-24T10:08:03.120133Z",
     "start_time": "2023-05-24T10:08:03.048226Z"
    }
   },
   "outputs": [],
   "source": [
    "#import python libraries for data manipulation and visualization\n",
    "import pandas as pd # for data manipulation \n",
    "import numpy as np # for data manipulation \n",
    "import seaborn as sns # for data visualization\n",
    "import matplotlib.pyplot as plt # for data visualization"
   ]
  },
  {
   "cell_type": "code",
   "execution_count": 2,
   "id": "74f25e94",
   "metadata": {
    "ExecuteTime": {
     "end_time": "2023-05-24T08:43:00.499490Z",
     "start_time": "2023-05-24T08:43:00.479369Z"
    }
   },
   "outputs": [],
   "source": [
    "df=pd.read_csv(r'C:\\data\\diabetes.csv')"
   ]
  },
  {
   "cell_type": "code",
   "execution_count": 3,
   "id": "366ecada",
   "metadata": {
    "ExecuteTime": {
     "end_time": "2023-05-24T08:43:00.886875Z",
     "start_time": "2023-05-24T08:43:00.867878Z"
    }
   },
   "outputs": [
    {
     "data": {
      "text/html": [
       "<div>\n",
       "<style scoped>\n",
       "    .dataframe tbody tr th:only-of-type {\n",
       "        vertical-align: middle;\n",
       "    }\n",
       "\n",
       "    .dataframe tbody tr th {\n",
       "        vertical-align: top;\n",
       "    }\n",
       "\n",
       "    .dataframe thead th {\n",
       "        text-align: right;\n",
       "    }\n",
       "</style>\n",
       "<table border=\"1\" class=\"dataframe\">\n",
       "  <thead>\n",
       "    <tr style=\"text-align: right;\">\n",
       "      <th></th>\n",
       "      <th>Pregnancies</th>\n",
       "      <th>Glucose</th>\n",
       "      <th>BloodPressure</th>\n",
       "      <th>SkinThickness</th>\n",
       "      <th>Insulin</th>\n",
       "      <th>BMI</th>\n",
       "      <th>DiabetesPedigreeFunction</th>\n",
       "      <th>Age</th>\n",
       "      <th>Outcome</th>\n",
       "    </tr>\n",
       "  </thead>\n",
       "  <tbody>\n",
       "    <tr>\n",
       "      <th>0</th>\n",
       "      <td>6</td>\n",
       "      <td>148</td>\n",
       "      <td>72</td>\n",
       "      <td>35</td>\n",
       "      <td>0</td>\n",
       "      <td>33.6</td>\n",
       "      <td>0.627</td>\n",
       "      <td>50</td>\n",
       "      <td>1</td>\n",
       "    </tr>\n",
       "    <tr>\n",
       "      <th>1</th>\n",
       "      <td>1</td>\n",
       "      <td>85</td>\n",
       "      <td>66</td>\n",
       "      <td>29</td>\n",
       "      <td>0</td>\n",
       "      <td>26.6</td>\n",
       "      <td>0.351</td>\n",
       "      <td>31</td>\n",
       "      <td>0</td>\n",
       "    </tr>\n",
       "    <tr>\n",
       "      <th>2</th>\n",
       "      <td>8</td>\n",
       "      <td>183</td>\n",
       "      <td>64</td>\n",
       "      <td>0</td>\n",
       "      <td>0</td>\n",
       "      <td>23.3</td>\n",
       "      <td>0.672</td>\n",
       "      <td>32</td>\n",
       "      <td>1</td>\n",
       "    </tr>\n",
       "    <tr>\n",
       "      <th>3</th>\n",
       "      <td>1</td>\n",
       "      <td>89</td>\n",
       "      <td>66</td>\n",
       "      <td>23</td>\n",
       "      <td>94</td>\n",
       "      <td>28.1</td>\n",
       "      <td>0.167</td>\n",
       "      <td>21</td>\n",
       "      <td>0</td>\n",
       "    </tr>\n",
       "    <tr>\n",
       "      <th>4</th>\n",
       "      <td>0</td>\n",
       "      <td>137</td>\n",
       "      <td>40</td>\n",
       "      <td>35</td>\n",
       "      <td>168</td>\n",
       "      <td>43.1</td>\n",
       "      <td>2.288</td>\n",
       "      <td>33</td>\n",
       "      <td>1</td>\n",
       "    </tr>\n",
       "  </tbody>\n",
       "</table>\n",
       "</div>"
      ],
      "text/plain": [
       "   Pregnancies  Glucose  BloodPressure  SkinThickness  Insulin   BMI  \\\n",
       "0            6      148             72             35        0  33.6   \n",
       "1            1       85             66             29        0  26.6   \n",
       "2            8      183             64              0        0  23.3   \n",
       "3            1       89             66             23       94  28.1   \n",
       "4            0      137             40             35      168  43.1   \n",
       "\n",
       "   DiabetesPedigreeFunction  Age  Outcome  \n",
       "0                     0.627   50        1  \n",
       "1                     0.351   31        0  \n",
       "2                     0.672   32        1  \n",
       "3                     0.167   21        0  \n",
       "4                     2.288   33        1  "
      ]
     },
     "execution_count": 3,
     "metadata": {},
     "output_type": "execute_result"
    }
   ],
   "source": [
    "df.head()"
   ]
  },
  {
   "cell_type": "code",
   "execution_count": 4,
   "id": "a0939e35",
   "metadata": {
    "ExecuteTime": {
     "end_time": "2023-05-24T08:43:01.539551Z",
     "start_time": "2023-05-24T08:43:01.523556Z"
    }
   },
   "outputs": [
    {
     "name": "stdout",
     "output_type": "stream",
     "text": [
      "<class 'pandas.core.frame.DataFrame'>\n",
      "RangeIndex: 768 entries, 0 to 767\n",
      "Data columns (total 9 columns):\n",
      " #   Column                    Non-Null Count  Dtype  \n",
      "---  ------                    --------------  -----  \n",
      " 0   Pregnancies               768 non-null    int64  \n",
      " 1   Glucose                   768 non-null    int64  \n",
      " 2   BloodPressure             768 non-null    int64  \n",
      " 3   SkinThickness             768 non-null    int64  \n",
      " 4   Insulin                   768 non-null    int64  \n",
      " 5   BMI                       768 non-null    float64\n",
      " 6   DiabetesPedigreeFunction  768 non-null    float64\n",
      " 7   Age                       768 non-null    int64  \n",
      " 8   Outcome                   768 non-null    int64  \n",
      "dtypes: float64(2), int64(7)\n",
      "memory usage: 54.1 KB\n"
     ]
    }
   ],
   "source": [
    "df.info()"
   ]
  },
  {
   "cell_type": "code",
   "execution_count": 5,
   "id": "2b03bc60",
   "metadata": {
    "ExecuteTime": {
     "end_time": "2023-05-24T08:43:01.899681Z",
     "start_time": "2023-05-24T08:43:01.894681Z"
    }
   },
   "outputs": [
    {
     "data": {
      "text/plain": [
       "(768, 9)"
      ]
     },
     "execution_count": 5,
     "metadata": {},
     "output_type": "execute_result"
    }
   ],
   "source": [
    "df.shape"
   ]
  },
  {
   "cell_type": "code",
   "execution_count": 6,
   "id": "bb1b599d",
   "metadata": {
    "ExecuteTime": {
     "end_time": "2023-05-24T08:43:02.302027Z",
     "start_time": "2023-05-24T08:43:02.265825Z"
    }
   },
   "outputs": [
    {
     "data": {
      "text/html": [
       "<div>\n",
       "<style scoped>\n",
       "    .dataframe tbody tr th:only-of-type {\n",
       "        vertical-align: middle;\n",
       "    }\n",
       "\n",
       "    .dataframe tbody tr th {\n",
       "        vertical-align: top;\n",
       "    }\n",
       "\n",
       "    .dataframe thead th {\n",
       "        text-align: right;\n",
       "    }\n",
       "</style>\n",
       "<table border=\"1\" class=\"dataframe\">\n",
       "  <thead>\n",
       "    <tr style=\"text-align: right;\">\n",
       "      <th></th>\n",
       "      <th>count</th>\n",
       "      <th>mean</th>\n",
       "      <th>std</th>\n",
       "      <th>min</th>\n",
       "      <th>25%</th>\n",
       "      <th>50%</th>\n",
       "      <th>75%</th>\n",
       "      <th>max</th>\n",
       "    </tr>\n",
       "  </thead>\n",
       "  <tbody>\n",
       "    <tr>\n",
       "      <th>Pregnancies</th>\n",
       "      <td>768.0</td>\n",
       "      <td>3.845052</td>\n",
       "      <td>3.369578</td>\n",
       "      <td>0.000</td>\n",
       "      <td>1.00000</td>\n",
       "      <td>3.0000</td>\n",
       "      <td>6.00000</td>\n",
       "      <td>17.00</td>\n",
       "    </tr>\n",
       "    <tr>\n",
       "      <th>Glucose</th>\n",
       "      <td>768.0</td>\n",
       "      <td>120.894531</td>\n",
       "      <td>31.972618</td>\n",
       "      <td>0.000</td>\n",
       "      <td>99.00000</td>\n",
       "      <td>117.0000</td>\n",
       "      <td>140.25000</td>\n",
       "      <td>199.00</td>\n",
       "    </tr>\n",
       "    <tr>\n",
       "      <th>BloodPressure</th>\n",
       "      <td>768.0</td>\n",
       "      <td>69.105469</td>\n",
       "      <td>19.355807</td>\n",
       "      <td>0.000</td>\n",
       "      <td>62.00000</td>\n",
       "      <td>72.0000</td>\n",
       "      <td>80.00000</td>\n",
       "      <td>122.00</td>\n",
       "    </tr>\n",
       "    <tr>\n",
       "      <th>SkinThickness</th>\n",
       "      <td>768.0</td>\n",
       "      <td>20.536458</td>\n",
       "      <td>15.952218</td>\n",
       "      <td>0.000</td>\n",
       "      <td>0.00000</td>\n",
       "      <td>23.0000</td>\n",
       "      <td>32.00000</td>\n",
       "      <td>99.00</td>\n",
       "    </tr>\n",
       "    <tr>\n",
       "      <th>Insulin</th>\n",
       "      <td>768.0</td>\n",
       "      <td>79.799479</td>\n",
       "      <td>115.244002</td>\n",
       "      <td>0.000</td>\n",
       "      <td>0.00000</td>\n",
       "      <td>30.5000</td>\n",
       "      <td>127.25000</td>\n",
       "      <td>846.00</td>\n",
       "    </tr>\n",
       "    <tr>\n",
       "      <th>BMI</th>\n",
       "      <td>768.0</td>\n",
       "      <td>31.992578</td>\n",
       "      <td>7.884160</td>\n",
       "      <td>0.000</td>\n",
       "      <td>27.30000</td>\n",
       "      <td>32.0000</td>\n",
       "      <td>36.60000</td>\n",
       "      <td>67.10</td>\n",
       "    </tr>\n",
       "    <tr>\n",
       "      <th>DiabetesPedigreeFunction</th>\n",
       "      <td>768.0</td>\n",
       "      <td>0.471876</td>\n",
       "      <td>0.331329</td>\n",
       "      <td>0.078</td>\n",
       "      <td>0.24375</td>\n",
       "      <td>0.3725</td>\n",
       "      <td>0.62625</td>\n",
       "      <td>2.42</td>\n",
       "    </tr>\n",
       "    <tr>\n",
       "      <th>Age</th>\n",
       "      <td>768.0</td>\n",
       "      <td>33.240885</td>\n",
       "      <td>11.760232</td>\n",
       "      <td>21.000</td>\n",
       "      <td>24.00000</td>\n",
       "      <td>29.0000</td>\n",
       "      <td>41.00000</td>\n",
       "      <td>81.00</td>\n",
       "    </tr>\n",
       "    <tr>\n",
       "      <th>Outcome</th>\n",
       "      <td>768.0</td>\n",
       "      <td>0.348958</td>\n",
       "      <td>0.476951</td>\n",
       "      <td>0.000</td>\n",
       "      <td>0.00000</td>\n",
       "      <td>0.0000</td>\n",
       "      <td>1.00000</td>\n",
       "      <td>1.00</td>\n",
       "    </tr>\n",
       "  </tbody>\n",
       "</table>\n",
       "</div>"
      ],
      "text/plain": [
       "                          count        mean         std     min       25%  \\\n",
       "Pregnancies               768.0    3.845052    3.369578   0.000   1.00000   \n",
       "Glucose                   768.0  120.894531   31.972618   0.000  99.00000   \n",
       "BloodPressure             768.0   69.105469   19.355807   0.000  62.00000   \n",
       "SkinThickness             768.0   20.536458   15.952218   0.000   0.00000   \n",
       "Insulin                   768.0   79.799479  115.244002   0.000   0.00000   \n",
       "BMI                       768.0   31.992578    7.884160   0.000  27.30000   \n",
       "DiabetesPedigreeFunction  768.0    0.471876    0.331329   0.078   0.24375   \n",
       "Age                       768.0   33.240885   11.760232  21.000  24.00000   \n",
       "Outcome                   768.0    0.348958    0.476951   0.000   0.00000   \n",
       "\n",
       "                               50%        75%     max  \n",
       "Pregnancies                 3.0000    6.00000   17.00  \n",
       "Glucose                   117.0000  140.25000  199.00  \n",
       "BloodPressure              72.0000   80.00000  122.00  \n",
       "SkinThickness              23.0000   32.00000   99.00  \n",
       "Insulin                    30.5000  127.25000  846.00  \n",
       "BMI                        32.0000   36.60000   67.10  \n",
       "DiabetesPedigreeFunction    0.3725    0.62625    2.42  \n",
       "Age                        29.0000   41.00000   81.00  \n",
       "Outcome                     0.0000    1.00000    1.00  "
      ]
     },
     "execution_count": 6,
     "metadata": {},
     "output_type": "execute_result"
    }
   ],
   "source": [
    "df.describe(include='all').T# Concise statistical description of numeric features"
   ]
  },
  {
   "cell_type": "code",
   "execution_count": 7,
   "id": "71f76723",
   "metadata": {
    "ExecuteTime": {
     "end_time": "2023-05-24T08:43:02.723644Z",
     "start_time": "2023-05-24T08:43:02.701750Z"
    }
   },
   "outputs": [
    {
     "data": {
      "text/plain": [
       "Pregnancies                 0.901674\n",
       "Glucose                     0.173754\n",
       "BloodPressure              -1.843608\n",
       "SkinThickness               0.109372\n",
       "Insulin                     2.272251\n",
       "BMI                        -0.428982\n",
       "DiabetesPedigreeFunction    1.919911\n",
       "Age                         1.129597\n",
       "Outcome                     0.635017\n",
       "dtype: float64"
      ]
     },
     "execution_count": 7,
     "metadata": {},
     "output_type": "execute_result"
    }
   ],
   "source": [
    "df.skew()"
   ]
  },
  {
   "cell_type": "markdown",
   "id": "0dc55c61",
   "metadata": {},
   "source": [
    "## Data Preprocessing - Feature Engineering - Exploratory Data Analysis"
   ]
  },
  {
   "cell_type": "code",
   "execution_count": 8,
   "id": "35fd38cc",
   "metadata": {
    "ExecuteTime": {
     "end_time": "2023-05-24T08:43:04.531268Z",
     "start_time": "2023-05-24T08:43:04.514269Z"
    }
   },
   "outputs": [
    {
     "data": {
      "text/plain": [
       "False"
      ]
     },
     "execution_count": 8,
     "metadata": {},
     "output_type": "execute_result"
    }
   ],
   "source": [
    "df.isnull().values.any() # No missing values to deal with"
   ]
  },
  {
   "cell_type": "code",
   "execution_count": 9,
   "id": "03bbb579",
   "metadata": {
    "ExecuteTime": {
     "end_time": "2023-05-24T08:43:05.200683Z",
     "start_time": "2023-05-24T08:43:05.180685Z"
    }
   },
   "outputs": [
    {
     "data": {
      "text/plain": [
       "False"
      ]
     },
     "execution_count": 9,
     "metadata": {},
     "output_type": "execute_result"
    }
   ],
   "source": [
    "df.duplicated().any() # There is no duplicated features to be dropped or deal with"
   ]
  },
  {
   "cell_type": "markdown",
   "id": "43562ebd",
   "metadata": {},
   "source": [
    "## Pandas Profiling"
   ]
  },
  {
   "cell_type": "code",
   "execution_count": 10,
   "id": "7074390a",
   "metadata": {
    "ExecuteTime": {
     "end_time": "2023-05-24T08:43:06.057679Z",
     "start_time": "2023-05-24T08:43:06.037908Z"
    }
   },
   "outputs": [],
   "source": [
    "#!pip install pandas_profiling"
   ]
  },
  {
   "cell_type": "code",
   "execution_count": 12,
   "id": "493bb39c",
   "metadata": {
    "ExecuteTime": {
     "end_time": "2023-05-24T08:38:30.112697Z",
     "start_time": "2023-05-24T08:38:30.072710Z"
    }
   },
   "outputs": [
    {
     "ename": "ModuleNotFoundError",
     "evalue": "No module named 'pandas_profiling'",
     "output_type": "error",
     "traceback": [
      "\u001b[1;31m---------------------------------------------------------------------------\u001b[0m",
      "\u001b[1;31mModuleNotFoundError\u001b[0m                       Traceback (most recent call last)",
      "Cell \u001b[1;32mIn[12], line 1\u001b[0m\n\u001b[1;32m----> 1\u001b[0m \u001b[38;5;28;01mfrom\u001b[39;00m \u001b[38;5;21;01mpandas_profiling\u001b[39;00m \u001b[38;5;28;01mimport\u001b[39;00m ProfileReport\n\u001b[0;32m      2\u001b[0m \u001b[38;5;66;03m#import sweetviz as sv \u001b[39;00m\n",
      "\u001b[1;31mModuleNotFoundError\u001b[0m: No module named 'pandas_profiling'"
     ]
    }
   ],
   "source": [
    "from pandas_profiling import ProfileReport\n",
    "#import sweetviz as sv "
   ]
  },
  {
   "cell_type": "code",
   "execution_count": null,
   "id": "a8fb46be",
   "metadata": {
    "ExecuteTime": {
     "end_time": "2023-05-24T08:38:30.120661Z",
     "start_time": "2023-05-24T08:38:30.120661Z"
    }
   },
   "outputs": [],
   "source": [
    "profile = ProfileReport(df, title=\"Diabetes Classification\")\n",
    "profile"
   ]
  },
  {
   "cell_type": "markdown",
   "id": "67929741",
   "metadata": {},
   "source": [
    "## Correlation Matrix For Numeric Features"
   ]
  },
  {
   "cell_type": "code",
   "execution_count": 11,
   "id": "5483b6d5",
   "metadata": {
    "ExecuteTime": {
     "end_time": "2023-05-24T08:43:40.800285Z",
     "start_time": "2023-05-24T08:43:40.393909Z"
    }
   },
   "outputs": [
    {
     "data": {
      "image/png": "[encoded data removed]",
      "text/plain": [
       "<Figure size 1000x700 with 2 Axes>"
      ]
     },
     "metadata": {},
     "output_type": "display_data"
    }
   ],
   "source": [
    "corrmat = df.corr()\n",
    "plt.subplots(figsize=(10,7))\n",
    "sns.heatmap(corrmat, annot=True, vmax=0.9, square=True,cmap='RdYlGn')\n",
    "plt.show();"
   ]
  },
  {
   "cell_type": "markdown",
   "id": "8b5ed9ec",
   "metadata": {},
   "source": [
    "## Distrubution Plots for Numeric Feature"
   ]
  },
  {
   "cell_type": "markdown",
   "id": "dedf224c",
   "metadata": {},
   "source": [
    "* Distribution of numeric features are different from each other. Some of the features normally distributed (e.g 'Glucose' and 'BMI') whereas some have skewed distributions"
   ]
  },
  {
   "cell_type": "code",
   "execution_count": null,
   "id": "4ade9e7c",
   "metadata": {
    "ExecuteTime": {
     "end_time": "2023-05-24T08:38:30.134040Z",
     "start_time": "2023-05-24T08:38:30.134040Z"
    }
   },
   "outputs": [],
   "source": [
    "f,ax=plt.subplots(3,3,figsize=(19,6),constrained_layout = True)\n",
    "sns.distplot(df[\"Pregnancies\"],bins=20,ax=ax[0,0],color='orange');\n",
    "\n",
    "sns.distplot(df[\"Glucose\"],bins=20,ax=ax[0,1],color='orange');\n",
    "\n",
    "sns.distplot(df[\"BloodPressure\"],bins=20,ax=ax[0,2],color='orange');\n",
    "\n",
    "sns.distplot(df[\"SkinThickness\"],bins=20,ax=ax[1,0],color='red');\n",
    "\n",
    "sns.distplot(df[\"Insulin\"],bins=20,ax=ax[1,1],color='red');\n",
    "\n",
    "sns.distplot(df[\"BMI\"],bins=20,ax=ax[1,2],color='red');\n",
    "\n",
    "sns.distplot(df[\"DiabetesPedigreeFunction\"],bins=20,ax=ax[2,0],color='black');\n",
    "\n",
    "sns.distplot(df[\"Age\"],bins=20,ax=ax[2,1],color='black');\n",
    "\n",
    "sns.distplot(df[\"Outcome\"],bins=20,ax=ax[2,2],color='black');"
   ]
  },
  {
   "cell_type": "markdown",
   "id": "b05e13a4",
   "metadata": {},
   "source": [
    "# Analysis of 'Outcome' Feature"
   ]
  },
  {
   "cell_type": "code",
   "execution_count": null,
   "id": "898a43a1",
   "metadata": {
    "ExecuteTime": {
     "end_time": "2023-05-24T08:38:30.140374Z",
     "start_time": "2023-05-24T08:38:30.140374Z"
    }
   },
   "outputs": [],
   "source": [
    "sns.countplot(data=df, x='Outcome');\n",
    "print(df.Outcome.value_counts())"
   ]
  },
  {
   "cell_type": "code",
   "execution_count": null,
   "id": "05cbe401",
   "metadata": {
    "ExecuteTime": {
     "end_time": "2023-05-24T08:38:30.145478Z",
     "start_time": "2023-05-24T08:38:30.145478Z"
    }
   },
   "outputs": [],
   "source": [
    "sns.pairplot(df, hue=\"Outcome\",height=1.5);\n",
    "plt.show();"
   ]
  },
  {
   "cell_type": "code",
   "execution_count": 12,
   "id": "f235701b",
   "metadata": {
    "ExecuteTime": {
     "end_time": "2023-05-24T08:43:53.761591Z",
     "start_time": "2023-05-24T08:43:53.332500Z"
    }
   },
   "outputs": [],
   "source": [
    "# Success metrics for the models\n",
    "from sklearn.metrics import accuracy_score,precision_score,recall_score, confusion_matrix,f1_score,roc_curve,roc_auc_score\n",
    "from sklearn.preprocessing import MinMaxScaler # to scale the numeric features \n",
    "from sklearn.model_selection import train_test_split,cross_val_score,GridSearchCV #splitting the dataset into test-train\n",
    "#from pandas_profiling import ProfileReport"
   ]
  },
  {
   "cell_type": "code",
   "execution_count": 13,
   "id": "6c38fb0e",
   "metadata": {
    "ExecuteTime": {
     "end_time": "2023-05-24T08:43:54.585537Z",
     "start_time": "2023-05-24T08:43:54.313102Z"
    }
   },
   "outputs": [],
   "source": [
    "#Algorithms for using supervised learning methods\n",
    "from sklearn.ensemble import RandomForestClassifier\n",
    "from sklearn.tree import DecisionTreeClassifier\n",
    "from sklearn.linear_model import LogisticRegression\n",
    "from sklearn.neighbors import KNeighborsClassifier"
   ]
  },
  {
   "cell_type": "markdown",
   "id": "89f8838b",
   "metadata": {},
   "source": [
    "##  Applying Normalization\n",
    " * Normalization is the process of transforming values of several variables into a similar range. Typical normalizations include    scaling the variable so the variable average is 0, scaling the variable so the variable variance is 1, or scaling the        -  variable so the variable values range from 0 to 1.\n",
    "*  In our example, Min-Max Scaling technique is applied.'''"
   ]
  },
  {
   "cell_type": "code",
   "execution_count": null,
   "id": "e698dbaa",
   "metadata": {
    "ExecuteTime": {
     "end_time": "2023-05-24T08:38:30.164847Z",
     "start_time": "2023-05-24T08:38:30.164847Z"
    }
   },
   "outputs": [],
   "source": [
    "df.columns"
   ]
  },
  {
   "cell_type": "code",
   "execution_count": null,
   "id": "b8d07091",
   "metadata": {
    "ExecuteTime": {
     "end_time": "2023-05-24T08:38:30.170730Z",
     "start_time": "2023-05-24T08:38:30.170730Z"
    }
   },
   "outputs": [],
   "source": [
    "transformer = MinMaxScaler()\n",
    "def scaling(columns):\n",
    "    return transformer.fit_transform(df[columns].values.reshape(-1,1))\n",
    "\n",
    "columns_to_be_scaled = ['Pregnancies', 'Glucose', 'BloodPressure', 'SkinThickness',\n",
    "                        'Insulin','BMI', 'DiabetesPedigreeFunction', 'Age']\n",
    "for i in columns_to_be_scaled:\n",
    "    df[i] = scaling(i)\n",
    "    \n",
    "df.head()"
   ]
  },
  {
   "cell_type": "markdown",
   "id": "a8563f79",
   "metadata": {},
   "source": [
    "## Machine Learning Modeling"
   ]
  },
  {
   "cell_type": "markdown",
   "id": "50de87e6",
   "metadata": {
    "ExecuteTime": {
     "end_time": "2023-05-24T08:07:09.757981Z",
     "start_time": "2023-05-24T08:07:09.738818Z"
    }
   },
   "source": [
    "\n",
    "### Train - Test Split\n",
    "    * Train dataset is split into test-train parts to be able to use in ML algorithms.\n",
    "    * 70% for training and 30% for testing"
   ]
  },
  {
   "cell_type": "code",
   "execution_count": 14,
   "id": "1589f599",
   "metadata": {
    "ExecuteTime": {
     "end_time": "2023-05-24T08:44:03.361093Z",
     "start_time": "2023-05-24T08:44:03.341098Z"
    }
   },
   "outputs": [],
   "source": [
    "y=df[\"Outcome\"] #output column\n",
    "X=df.drop([\"Outcome\"],axis=1) #train columns\n",
    "X_train,X_test,y_train,y_test = train_test_split(X,y,test_size = 0.30,random_state=42)"
   ]
  },
  {
   "cell_type": "code",
   "execution_count": null,
   "id": "5d27baae",
   "metadata": {
    "ExecuteTime": {
     "end_time": "2023-05-24T08:38:30.189040Z",
     "start_time": "2023-05-24T08:38:30.189040Z"
    }
   },
   "outputs": [],
   "source": [
    "\n",
    "neighbors = np.arange(1, 9)\n",
    "train_accuracy = np.empty(len(neighbors))\n",
    "test_accuracy = np.empty(len(neighbors))\n",
    "\n",
    "for i, k in enumerate(neighbors):\n",
    "    knn = KNeighborsClassifier(n_neighbors=k)\n",
    "    knn.fit(X_train,y_train)\n",
    "    train_accuracy[i] = knn.score(X_train, y_train)\n",
    "    test_accuracy[i] = knn.score(X_test, y_test)\n",
    "    \n",
    "plt.title('k-NN: Varying Number of Neighbors')\n",
    "plt.plot(neighbors, test_accuracy, label = 'Testing Accuracy')\n",
    "plt.plot(neighbors, train_accuracy, label = 'Training Accuracy')\n",
    "plt.legend()\n",
    "plt.xlabel('Number of Neighbors')\n",
    "plt.ylabel('Accuracy')\n",
    "plt.show()"
   ]
  },
  {
   "cell_type": "code",
   "execution_count": null,
   "id": "a92f0d65",
   "metadata": {},
   "outputs": [],
   "source": []
  },
  {
   "cell_type": "markdown",
   "id": "5dcc3110",
   "metadata": {},
   "source": [
    "## Deep Learning\n"
   ]
  },
  {
   "cell_type": "code",
   "execution_count": 15,
   "id": "b99831bf",
   "metadata": {
    "ExecuteTime": {
     "end_time": "2023-05-24T08:44:15.123480Z",
     "start_time": "2023-05-24T08:44:08.064628Z"
    }
   },
   "outputs": [],
   "source": [
    "import tensorflow \n",
    "from tensorflow import keras\n",
    "from keras.models import Sequential\n",
    "from keras.layers import Dense,Dropout"
   ]
  },
  {
   "cell_type": "code",
   "execution_count": 17,
   "id": "636eab94",
   "metadata": {
    "ExecuteTime": {
     "end_time": "2023-05-24T08:44:30.082897Z",
     "start_time": "2023-05-24T08:44:30.056899Z"
    }
   },
   "outputs": [],
   "source": [
    "from sklearn.preprocessing import StandardScaler\n",
    "std=StandardScaler()\n",
    "x_trainf=std.fit_transform(X_train)\n",
    "x_testf=std.transform(X_test)"
   ]
  },
  {
   "cell_type": "code",
   "execution_count": 18,
   "id": "d4cb7eb9",
   "metadata": {
    "ExecuteTime": {
     "end_time": "2023-05-24T08:44:38.378578Z",
     "start_time": "2023-05-24T08:44:38.324469Z"
    }
   },
   "outputs": [],
   "source": [
    "model=Sequential()\n",
    "model.add(Dense(3,activation=\"relu\",kernel_initializer=\"he_uniform\",input_dim=2))\n",
    "model.add(Dense(2,activation=\"relu\",kernel_initializer=\"he_uniform\"))\n",
    "model.add(Dense(1,activation=\"sigmoid\"))"
   ]
  },
  {
   "cell_type": "code",
   "execution_count": 19,
   "id": "1baa3be7",
   "metadata": {
    "ExecuteTime": {
     "end_time": "2023-05-24T08:44:39.079004Z",
     "start_time": "2023-05-24T08:44:39.049860Z"
    }
   },
   "outputs": [],
   "source": [
    "wei=model.get_weights()"
   ]
  },
  {
   "cell_type": "code",
   "execution_count": 20,
   "id": "7c6cc4a7",
   "metadata": {
    "ExecuteTime": {
     "end_time": "2023-05-24T08:44:39.553968Z",
     "start_time": "2023-05-24T08:44:39.535972Z"
    }
   },
   "outputs": [
    {
     "data": {
      "text/plain": [
       "[array([[ 0.5897664 , -0.74101   , -0.25535202],\n",
       "        [-0.35020244, -0.29804718, -0.5235828 ]], dtype=float32),\n",
       " array([0., 0., 0.], dtype=float32),\n",
       " array([[-0.34174657, -1.0496598 ],\n",
       "        [-0.6142603 ,  0.7121073 ],\n",
       "        [-0.6698766 , -1.3048576 ]], dtype=float32),\n",
       " array([0., 0.], dtype=float32),\n",
       " array([[ 0.6656598],\n",
       "        [-0.5617207]], dtype=float32),\n",
       " array([0.], dtype=float32)]"
      ]
     },
     "execution_count": 20,
     "metadata": {},
     "output_type": "execute_result"
    }
   ],
   "source": [
    "wei"
   ]
  },
  {
   "cell_type": "code",
   "execution_count": 21,
   "id": "74fdbcc6",
   "metadata": {
    "ExecuteTime": {
     "end_time": "2023-05-24T08:44:51.771406Z",
     "start_time": "2023-05-24T08:44:51.740391Z"
    }
   },
   "outputs": [],
   "source": [
    "model.compile(optimizer=\"Adam\",loss=\"binary_crossentropy\",metrics=[\"accuracy\"])"
   ]
  },
  {
   "cell_type": "code",
   "execution_count": 30,
   "id": "d64780a0",
   "metadata": {
    "ExecuteTime": {
     "end_time": "2023-05-24T08:51:57.211469Z",
     "start_time": "2023-05-24T08:51:57.198099Z"
    }
   },
   "outputs": [],
   "source": [
    "x_train_f=x_trainf.flatten()"
   ]
  },
  {
   "cell_type": "code",
   "execution_count": 32,
   "id": "0b23a5de",
   "metadata": {
    "ExecuteTime": {
     "end_time": "2023-05-24T08:52:44.755630Z",
     "start_time": "2023-05-24T08:52:44.734633Z"
    }
   },
   "outputs": [
    {
     "data": {
      "text/plain": [
       "array([-0.8362943 , -0.80005088, -0.53576428, ..., -1.24394334,\n",
       "       -0.60836445, -1.03426754])"
      ]
     },
     "execution_count": 32,
     "metadata": {},
     "output_type": "execute_result"
    }
   ],
   "source": [
    "x_train_f"
   ]
  },
  {
   "cell_type": "code",
   "execution_count": 33,
   "id": "891e989d",
   "metadata": {
    "ExecuteTime": {
     "end_time": "2023-05-24T08:52:51.877980Z",
     "start_time": "2023-05-24T08:52:51.823289Z"
    }
   },
   "outputs": [
    {
     "ename": "ValueError",
     "evalue": "Data cardinality is ambiguous:\n  x sizes: 3436\n  y sizes: 537\nMake sure all arrays contain the same number of samples.",
     "output_type": "error",
     "traceback": [
      "\u001b[1;31m---------------------------------------------------------------------------\u001b[0m",
      "\u001b[1;31mValueError\u001b[0m                                Traceback (most recent call last)",
      "Cell \u001b[1;32mIn[33], line 1\u001b[0m\n\u001b[1;32m----> 1\u001b[0m history\u001b[38;5;241m=\u001b[39m\u001b[43mmodel\u001b[49m\u001b[38;5;241;43m.\u001b[39;49m\u001b[43mfit\u001b[49m\u001b[43m(\u001b[49m\u001b[43mx_train_f\u001b[49m\u001b[43m,\u001b[49m\u001b[43my_train\u001b[49m\u001b[43m,\u001b[49m\u001b[43mbatch_size\u001b[49m\u001b[38;5;241;43m=\u001b[39;49m\u001b[38;5;241;43m1\u001b[39;49m\u001b[43m,\u001b[49m\u001b[43mepochs\u001b[49m\u001b[38;5;241;43m=\u001b[39;49m\u001b[38;5;241;43m50\u001b[39;49m\u001b[43m,\u001b[49m\u001b[43mvalidation_split\u001b[49m\u001b[38;5;241;43m=\u001b[39;49m\u001b[38;5;241;43m0.2\u001b[39;49m\u001b[43m)\u001b[49m\n",
      "File \u001b[1;32m~\\AppData\\Roaming\\Python\\Python310\\site-packages\\keras\\utils\\traceback_utils.py:70\u001b[0m, in \u001b[0;36mfilter_traceback.<locals>.error_handler\u001b[1;34m(*args, **kwargs)\u001b[0m\n\u001b[0;32m     67\u001b[0m     filtered_tb \u001b[38;5;241m=\u001b[39m _process_traceback_frames(e\u001b[38;5;241m.\u001b[39m__traceback__)\n\u001b[0;32m     68\u001b[0m     \u001b[38;5;66;03m# To get the full stack trace, call:\u001b[39;00m\n\u001b[0;32m     69\u001b[0m     \u001b[38;5;66;03m# `tf.debugging.disable_traceback_filtering()`\u001b[39;00m\n\u001b[1;32m---> 70\u001b[0m     \u001b[38;5;28;01mraise\u001b[39;00m e\u001b[38;5;241m.\u001b[39mwith_traceback(filtered_tb) \u001b[38;5;28;01mfrom\u001b[39;00m \u001b[38;5;28mNone\u001b[39m\n\u001b[0;32m     71\u001b[0m \u001b[38;5;28;01mfinally\u001b[39;00m:\n\u001b[0;32m     72\u001b[0m     \u001b[38;5;28;01mdel\u001b[39;00m filtered_tb\n",
      "File \u001b[1;32m~\\AppData\\Roaming\\Python\\Python310\\site-packages\\keras\\engine\\data_adapter.py:1851\u001b[0m, in \u001b[0;36m_check_data_cardinality\u001b[1;34m(data)\u001b[0m\n\u001b[0;32m   1844\u001b[0m     msg \u001b[38;5;241m+\u001b[39m\u001b[38;5;241m=\u001b[39m \u001b[38;5;124m\"\u001b[39m\u001b[38;5;124m  \u001b[39m\u001b[38;5;132;01m{}\u001b[39;00m\u001b[38;5;124m sizes: \u001b[39m\u001b[38;5;132;01m{}\u001b[39;00m\u001b[38;5;130;01m\\n\u001b[39;00m\u001b[38;5;124m\"\u001b[39m\u001b[38;5;241m.\u001b[39mformat(\n\u001b[0;32m   1845\u001b[0m         label,\n\u001b[0;32m   1846\u001b[0m         \u001b[38;5;124m\"\u001b[39m\u001b[38;5;124m, \u001b[39m\u001b[38;5;124m\"\u001b[39m\u001b[38;5;241m.\u001b[39mjoin(\n\u001b[0;32m   1847\u001b[0m             \u001b[38;5;28mstr\u001b[39m(i\u001b[38;5;241m.\u001b[39mshape[\u001b[38;5;241m0\u001b[39m]) \u001b[38;5;28;01mfor\u001b[39;00m i \u001b[38;5;129;01min\u001b[39;00m tf\u001b[38;5;241m.\u001b[39mnest\u001b[38;5;241m.\u001b[39mflatten(single_data)\n\u001b[0;32m   1848\u001b[0m         ),\n\u001b[0;32m   1849\u001b[0m     )\n\u001b[0;32m   1850\u001b[0m msg \u001b[38;5;241m+\u001b[39m\u001b[38;5;241m=\u001b[39m \u001b[38;5;124m\"\u001b[39m\u001b[38;5;124mMake sure all arrays contain the same number of samples.\u001b[39m\u001b[38;5;124m\"\u001b[39m\n\u001b[1;32m-> 1851\u001b[0m \u001b[38;5;28;01mraise\u001b[39;00m \u001b[38;5;167;01mValueError\u001b[39;00m(msg)\n",
      "\u001b[1;31mValueError\u001b[0m: Data cardinality is ambiguous:\n  x sizes: 3436\n  y sizes: 537\nMake sure all arrays contain the same number of samples."
     ]
    }
   ],
   "source": [
    "history=model.fit(x_train_f,y_train,batch_size=1,epochs=50,validation_split=0.2)"
   ]
  },
  {
   "cell_type": "code",
   "execution_count": null,
   "id": "9a042232",
   "metadata": {},
   "outputs": [],
   "source": []
  }
 ],
 "metadata": {
  "kernelspec": {
   "display_name": "Python 3 (ipykernel)",
   "language": "python",
   "name": "python3"
  },
  "language_info": {
   "codemirror_mode": {
    "name": "ipython",
    "version": 3
   },
   "file_extension": ".py",
   "mimetype": "text/x-python",
   "name": "python",
   "nbconvert_exporter": "python",
   "pygments_lexer": "ipython3",
   "version": "3.10.9"
  }
 },
 "nbformat": 4,
 "nbformat_minor": 5
}
