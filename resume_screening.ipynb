{
  "cells": [
    {
      "cell_type": "markdown",
      "id": "9e80354b",
      "metadata": {
        "papermill": {
          "duration": 0.013326,
          "end_time": "2023-07-16T17:13:07.996056",
          "exception": false,
          "start_time": "2023-07-16T17:13:07.982730",
          "status": "completed"
        },
        "tags": [],
        "id": "9e80354b"
      },
      "source": [
        "### What is Resume Screening\n",
        "\n",
        "*Resume screening is the initial step in the hiring process, where resumes are evaluated to identify qualified candidates based on their skills, qualifications, and experience, enabling employers to shortlist potential candidates for further consideration.*"
      ]
    },
    {
      "cell_type": "code",
      "source": [
        "from google.colab import drive\n",
        "drive.mount('/content/drive')"
      ],
      "metadata": {
        "colab": {
          "base_uri": "https://localhost:8080/"
        },
        "id": "WQj7gy6Kfp0B",
        "outputId": "f825786b-0c39-485d-ac08-cf4162a21d9c"
      },
      "id": "WQj7gy6Kfp0B",
      "execution_count": 3,
      "outputs": [
        {
          "output_type": "stream",
          "name": "stdout",
          "text": [
            "Drive already mounted at /content/drive; to attempt to forcibly remount, call drive.mount(\"/content/drive\", force_remount=True).\n"
          ]
        }
      ]
    },
    {
      "cell_type": "markdown",
      "id": "1bc0c2b5",
      "metadata": {
        "papermill": {
          "duration": 0.014494,
          "end_time": "2023-07-16T17:13:08.023990",
          "exception": false,
          "start_time": "2023-07-16T17:13:08.009496",
          "status": "completed"
        },
        "tags": [],
        "id": "1bc0c2b5"
      },
      "source": [
        "**In this section, we will explore the Python implementation of resume screening, breaking it down into step-by-step instructions for effective evaluation of resumes.**"
      ]
    },
    {
      "cell_type": "markdown",
      "id": "45bbbf14",
      "metadata": {
        "papermill": {
          "duration": 0.013143,
          "end_time": "2023-07-16T17:13:08.050665",
          "exception": false,
          "start_time": "2023-07-16T17:13:08.037522",
          "status": "completed"
        },
        "tags": [],
        "id": "45bbbf14"
      },
      "source": [
        "### 1- Importing Packages\n",
        "*We will begin by Importing necessary packages required for this task*"
      ]
    },
    {
      "cell_type": "code",
      "execution_count": 6,
      "id": "a847222f",
      "metadata": {
        "execution": {
          "iopub.execute_input": "2023-07-16T17:13:08.079548Z",
          "iopub.status.busy": "2023-07-16T17:13:08.078923Z",
          "iopub.status.idle": "2023-07-16T17:13:08.084063Z",
          "shell.execute_reply": "2023-07-16T17:13:08.083026Z"
        },
        "papermill": {
          "duration": 0.022054,
          "end_time": "2023-07-16T17:13:08.086279",
          "exception": false,
          "start_time": "2023-07-16T17:13:08.064225",
          "status": "completed"
        },
        "tags": [],
        "id": "a847222f"
      },
      "outputs": [],
      "source": [
        "import pandas as pd\n",
        "import numpy as np\n",
        "import matplotlib.pyplot as plt\n",
        "import re"
      ]
    },
    {
      "cell_type": "code",
      "execution_count": 7,
      "id": "331c026f",
      "metadata": {
        "execution": {
          "iopub.execute_input": "2023-07-16T17:13:08.114791Z",
          "iopub.status.busy": "2023-07-16T17:13:08.114383Z",
          "iopub.status.idle": "2023-07-16T17:13:09.569672Z",
          "shell.execute_reply": "2023-07-16T17:13:09.568728Z"
        },
        "papermill": {
          "duration": 1.472439,
          "end_time": "2023-07-16T17:13:09.572188",
          "exception": false,
          "start_time": "2023-07-16T17:13:08.099749",
          "status": "completed"
        },
        "tags": [],
        "id": "331c026f"
      },
      "outputs": [],
      "source": [
        "from sklearn.metrics import classification_report\n",
        "from sklearn.preprocessing import LabelEncoder\n",
        "from sklearn.feature_extraction.text import TfidfVectorizer\n",
        "from sklearn.neighbors  import KNeighborsClassifier\n",
        "from sklearn.model_selection import train_test_split"
      ]
    },
    {
      "cell_type": "markdown",
      "id": "ed226640",
      "metadata": {
        "papermill": {
          "duration": 0.013308,
          "end_time": "2023-07-16T17:13:09.599463",
          "exception": false,
          "start_time": "2023-07-16T17:13:09.586155",
          "status": "completed"
        },
        "tags": [],
        "id": "ed226640"
      },
      "source": [
        "### 2 - Exploratory Data Analysis"
      ]
    },
    {
      "cell_type": "markdown",
      "id": "0ea598d8",
      "metadata": {
        "papermill": {
          "duration": 0.01359,
          "end_time": "2023-07-16T17:13:09.626525",
          "exception": false,
          "start_time": "2023-07-16T17:13:09.612935",
          "status": "completed"
        },
        "tags": [],
        "id": "0ea598d8"
      },
      "source": []
    },
    {
      "cell_type": "code",
      "source": [
        "!unzip '/content/drive/MyDrive/resume_NLP/UpdatedResumeDataSet.csv.zip' -d '/content/drive/MyDrive/resume_NLP/resume_nlp'"
      ],
      "metadata": {
        "colab": {
          "base_uri": "https://localhost:8080/"
        },
        "id": "HomTSA3jgIbl",
        "outputId": "81384259-0006-43e4-c993-386eabb52f22"
      },
      "id": "HomTSA3jgIbl",
      "execution_count": 4,
      "outputs": [
        {
          "output_type": "stream",
          "name": "stdout",
          "text": [
            "Archive:  /content/drive/MyDrive/resume_NLP/UpdatedResumeDataSet.csv.zip\n",
            "  inflating: /content/drive/MyDrive/resume_NLP/resume_nlp/UpdatedResumeDataSet.csv  \n"
          ]
        }
      ]
    },
    {
      "cell_type": "code",
      "execution_count": 8,
      "id": "8bbdbc1b",
      "metadata": {
        "execution": {
          "iopub.execute_input": "2023-07-16T17:13:09.656024Z",
          "iopub.status.busy": "2023-07-16T17:13:09.655640Z",
          "iopub.status.idle": "2023-07-16T17:13:09.747068Z",
          "shell.execute_reply": "2023-07-16T17:13:09.746168Z"
        },
        "papermill": {
          "duration": 0.109216,
          "end_time": "2023-07-16T17:13:09.749629",
          "exception": false,
          "start_time": "2023-07-16T17:13:09.640413",
          "status": "completed"
        },
        "tags": [],
        "id": "8bbdbc1b"
      },
      "outputs": [],
      "source": [
        "resume_data = pd.read_csv(r'/content/drive/MyDrive/resume_NLP/resume_nlp/UpdatedResumeDataSet.csv')"
      ]
    },
    {
      "cell_type": "code",
      "execution_count": 10,
      "id": "11713fba",
      "metadata": {
        "execution": {
          "iopub.execute_input": "2023-07-16T17:13:09.779184Z",
          "iopub.status.busy": "2023-07-16T17:13:09.778336Z",
          "iopub.status.idle": "2023-07-16T17:13:09.802268Z",
          "shell.execute_reply": "2023-07-16T17:13:09.800945Z"
        },
        "papermill": {
          "duration": 0.041588,
          "end_time": "2023-07-16T17:13:09.804822",
          "exception": false,
          "start_time": "2023-07-16T17:13:09.763234",
          "status": "completed"
        },
        "tags": [],
        "id": "11713fba",
        "outputId": "810363c7-dfd0-4419-b28a-c011f2654e17",
        "colab": {
          "base_uri": "https://localhost:8080/",
          "height": 423
        }
      },
      "outputs": [
        {
          "output_type": "execute_result",
          "data": {
            "text/plain": [
              "         Category                                             Resume\n",
              "0    Data Science  Skills * Programming Languages: Python (pandas...\n",
              "1    Data Science  Education Details \\r\\nMay 2013 to May 2017 B.E...\n",
              "2    Data Science  Areas of Interest Deep Learning, Control Syste...\n",
              "3    Data Science  Skills â¢ R â¢ Python â¢ SAP HANA â¢ Table...\n",
              "4    Data Science  Education Details \\r\\n MCA   YMCAUST,  Faridab...\n",
              "..            ...                                                ...\n",
              "957       Testing  Computer Skills: â¢ Proficient in MS office (...\n",
              "958       Testing  â Willingness to accept the challenges. â ...\n",
              "959       Testing  PERSONAL SKILLS â¢ Quick learner, â¢ Eagerne...\n",
              "960       Testing  COMPUTER SKILLS & SOFTWARE KNOWLEDGE MS-Power ...\n",
              "961       Testing  Skill Set OS Windows XP/7/8/8.1/10 Database MY...\n",
              "\n",
              "[962 rows x 2 columns]"
            ],
            "text/html": [
              "\n",
              "\n",
              "  <div id=\"df-c121a89a-3d65-446c-bc4b-fa5034347c8f\">\n",
              "    <div class=\"colab-df-container\">\n",
              "      <div>\n",
              "<style scoped>\n",
              "    .dataframe tbody tr th:only-of-type {\n",
              "        vertical-align: middle;\n",
              "    }\n",
              "\n",
              "    .dataframe tbody tr th {\n",
              "        vertical-align: top;\n",
              "    }\n",
              "\n",
              "    .dataframe thead th {\n",
              "        text-align: right;\n",
              "    }\n",
              "</style>\n",
              "<table border=\"1\" class=\"dataframe\">\n",
              "  <thead>\n",
              "    <tr style=\"text-align: right;\">\n",
              "      <th></th>\n",
              "      <th>Category</th>\n",
              "      <th>Resume</th>\n",
              "    </tr>\n",
              "  </thead>\n",
              "  <tbody>\n",
              "    <tr>\n",
              "      <th>0</th>\n",
              "      <td>Data Science</td>\n",
              "      <td>Skills * Programming Languages: Python (pandas...</td>\n",
              "    </tr>\n",
              "    <tr>\n",
              "      <th>1</th>\n",
              "      <td>Data Science</td>\n",
              "      <td>Education Details \\r\\nMay 2013 to May 2017 B.E...</td>\n",
              "    </tr>\n",
              "    <tr>\n",
              "      <th>2</th>\n",
              "      <td>Data Science</td>\n",
              "      <td>Areas of Interest Deep Learning, Control Syste...</td>\n",
              "    </tr>\n",
              "    <tr>\n",
              "      <th>3</th>\n",
              "      <td>Data Science</td>\n",
              "      <td>Skills â¢ R â¢ Python â¢ SAP HANA â¢ Table...</td>\n",
              "    </tr>\n",
              "    <tr>\n",
              "      <th>4</th>\n",
              "      <td>Data Science</td>\n",
              "      <td>Education Details \\r\\n MCA   YMCAUST,  Faridab...</td>\n",
              "    </tr>\n",
              "    <tr>\n",
              "      <th>...</th>\n",
              "      <td>...</td>\n",
              "      <td>...</td>\n",
              "    </tr>\n",
              "    <tr>\n",
              "      <th>957</th>\n",
              "      <td>Testing</td>\n",
              "      <td>Computer Skills: â¢ Proficient in MS office (...</td>\n",
              "    </tr>\n",
              "    <tr>\n",
              "      <th>958</th>\n",
              "      <td>Testing</td>\n",
              "      <td>â Willingness to accept the challenges. â ...</td>\n",
              "    </tr>\n",
              "    <tr>\n",
              "      <th>959</th>\n",
              "      <td>Testing</td>\n",
              "      <td>PERSONAL SKILLS â¢ Quick learner, â¢ Eagerne...</td>\n",
              "    </tr>\n",
              "    <tr>\n",
              "      <th>960</th>\n",
              "      <td>Testing</td>\n",
              "      <td>COMPUTER SKILLS &amp; SOFTWARE KNOWLEDGE MS-Power ...</td>\n",
              "    </tr>\n",
              "    <tr>\n",
              "      <th>961</th>\n",
              "      <td>Testing</td>\n",
              "      <td>Skill Set OS Windows XP/7/8/8.1/10 Database MY...</td>\n",
              "    </tr>\n",
              "  </tbody>\n",
              "</table>\n",
              "<p>962 rows × 2 columns</p>\n",
              "</div>\n",
              "      <button class=\"colab-df-convert\" onclick=\"convertToInteractive('df-c121a89a-3d65-446c-bc4b-fa5034347c8f')\"\n",
              "              title=\"Convert this dataframe to an interactive table.\"\n",
              "              style=\"display:none;\">\n",
              "\n",
              "  <svg xmlns=\"http://www.w3.org/2000/svg\" height=\"24px\"viewBox=\"0 0 24 24\"\n",
              "       width=\"24px\">\n",
              "    <path d=\"M0 0h24v24H0V0z\" fill=\"none\"/>\n",
              "    <path d=\"M18.56 5.44l.94 2.06.94-2.06 2.06-.94-2.06-.94-.94-2.06-.94 2.06-2.06.94zm-11 1L8.5 8.5l.94-2.06 2.06-.94-2.06-.94L8.5 2.5l-.94 2.06-2.06.94zm10 10l.94 2.06.94-2.06 2.06-.94-2.06-.94-.94-2.06-.94 2.06-2.06.94z\"/><path d=\"M17.41 7.96l-1.37-1.37c-.4-.4-.92-.59-1.43-.59-.52 0-1.04.2-1.43.59L10.3 9.45l-7.72 7.72c-.78.78-.78 2.05 0 2.83L4 21.41c.39.39.9.59 1.41.59.51 0 1.02-.2 1.41-.59l7.78-7.78 2.81-2.81c.8-.78.8-2.07 0-2.86zM5.41 20L4 18.59l7.72-7.72 1.47 1.35L5.41 20z\"/>\n",
              "  </svg>\n",
              "      </button>\n",
              "\n",
              "\n",
              "\n",
              "    <div id=\"df-3acde99a-db79-4a7d-aaa1-afb2499e9cf0\">\n",
              "      <button class=\"colab-df-quickchart\" onclick=\"quickchart('df-3acde99a-db79-4a7d-aaa1-afb2499e9cf0')\"\n",
              "              title=\"Suggest charts.\"\n",
              "              style=\"display:none;\">\n",
              "\n",
              "<svg xmlns=\"http://www.w3.org/2000/svg\" height=\"24px\"viewBox=\"0 0 24 24\"\n",
              "     width=\"24px\">\n",
              "    <g>\n",
              "        <path d=\"M19 3H5c-1.1 0-2 .9-2 2v14c0 1.1.9 2 2 2h14c1.1 0 2-.9 2-2V5c0-1.1-.9-2-2-2zM9 17H7v-7h2v7zm4 0h-2V7h2v10zm4 0h-2v-4h2v4z\"/>\n",
              "    </g>\n",
              "</svg>\n",
              "      </button>\n",
              "    </div>\n",
              "\n",
              "<style>\n",
              "  .colab-df-quickchart {\n",
              "    background-color: #E8F0FE;\n",
              "    border: none;\n",
              "    border-radius: 50%;\n",
              "    cursor: pointer;\n",
              "    display: none;\n",
              "    fill: #1967D2;\n",
              "    height: 32px;\n",
              "    padding: 0 0 0 0;\n",
              "    width: 32px;\n",
              "  }\n",
              "\n",
              "  .colab-df-quickchart:hover {\n",
              "    background-color: #E2EBFA;\n",
              "    box-shadow: 0px 1px 2px rgba(60, 64, 67, 0.3), 0px 1px 3px 1px rgba(60, 64, 67, 0.15);\n",
              "    fill: #174EA6;\n",
              "  }\n",
              "\n",
              "  [theme=dark] .colab-df-quickchart {\n",
              "    background-color: #3B4455;\n",
              "    fill: #D2E3FC;\n",
              "  }\n",
              "\n",
              "  [theme=dark] .colab-df-quickchart:hover {\n",
              "    background-color: #434B5C;\n",
              "    box-shadow: 0px 1px 3px 1px rgba(0, 0, 0, 0.15);\n",
              "    filter: drop-shadow(0px 1px 2px rgba(0, 0, 0, 0.3));\n",
              "    fill: #FFFFFF;\n",
              "  }\n",
              "</style>\n",
              "\n",
              "    <script>\n",
              "      async function quickchart(key) {\n",
              "        const containerElement = document.querySelector('#' + key);\n",
              "        const charts = await google.colab.kernel.invokeFunction(\n",
              "            'suggestCharts', [key], {});\n",
              "      }\n",
              "    </script>\n",
              "\n",
              "      <script>\n",
              "\n",
              "function displayQuickchartButton(domScope) {\n",
              "  let quickchartButtonEl =\n",
              "    domScope.querySelector('#df-3acde99a-db79-4a7d-aaa1-afb2499e9cf0 button.colab-df-quickchart');\n",
              "  quickchartButtonEl.style.display =\n",
              "    google.colab.kernel.accessAllowed ? 'block' : 'none';\n",
              "}\n",
              "\n",
              "        displayQuickchartButton(document);\n",
              "      </script>\n",
              "      <style>\n",
              "    .colab-df-container {\n",
              "      display:flex;\n",
              "      flex-wrap:wrap;\n",
              "      gap: 12px;\n",
              "    }\n",
              "\n",
              "    .colab-df-convert {\n",
              "      background-color: #E8F0FE;\n",
              "      border: none;\n",
              "      border-radius: 50%;\n",
              "      cursor: pointer;\n",
              "      display: none;\n",
              "      fill: #1967D2;\n",
              "      height: 32px;\n",
              "      padding: 0 0 0 0;\n",
              "      width: 32px;\n",
              "    }\n",
              "\n",
              "    .colab-df-convert:hover {\n",
              "      background-color: #E2EBFA;\n",
              "      box-shadow: 0px 1px 2px rgba(60, 64, 67, 0.3), 0px 1px 3px 1px rgba(60, 64, 67, 0.15);\n",
              "      fill: #174EA6;\n",
              "    }\n",
              "\n",
              "    [theme=dark] .colab-df-convert {\n",
              "      background-color: #3B4455;\n",
              "      fill: #D2E3FC;\n",
              "    }\n",
              "\n",
              "    [theme=dark] .colab-df-convert:hover {\n",
              "      background-color: #434B5C;\n",
              "      box-shadow: 0px 1px 3px 1px rgba(0, 0, 0, 0.15);\n",
              "      filter: drop-shadow(0px 1px 2px rgba(0, 0, 0, 0.3));\n",
              "      fill: #FFFFFF;\n",
              "    }\n",
              "  </style>\n",
              "\n",
              "      <script>\n",
              "        const buttonEl =\n",
              "          document.querySelector('#df-c121a89a-3d65-446c-bc4b-fa5034347c8f button.colab-df-convert');\n",
              "        buttonEl.style.display =\n",
              "          google.colab.kernel.accessAllowed ? 'block' : 'none';\n",
              "\n",
              "        async function convertToInteractive(key) {\n",
              "          const element = document.querySelector('#df-c121a89a-3d65-446c-bc4b-fa5034347c8f');\n",
              "          const dataTable =\n",
              "            await google.colab.kernel.invokeFunction('convertToInteractive',\n",
              "                                                     [key], {});\n",
              "          if (!dataTable) return;\n",
              "\n",
              "          const docLinkHtml = 'Like what you see? Visit the ' +\n",
              "            '<a target=\"_blank\" href=https://colab.research.google.com/notebooks/data_table.ipynb>data table notebook</a>'\n",
              "            + ' to learn more about interactive tables.';\n",
              "          element.innerHTML = '';\n",
              "          dataTable['output_type'] = 'display_data';\n",
              "          await google.colab.output.renderOutput(dataTable, element);\n",
              "          const docLink = document.createElement('div');\n",
              "          docLink.innerHTML = docLinkHtml;\n",
              "          element.appendChild(docLink);\n",
              "        }\n",
              "      </script>\n",
              "    </div>\n",
              "  </div>\n"
            ]
          },
          "metadata": {},
          "execution_count": 10
        }
      ],
      "source": [
        "resume_data"
      ]
    },
    {
      "cell_type": "code",
      "execution_count": 11,
      "id": "c9669129",
      "metadata": {
        "execution": {
          "iopub.execute_input": "2023-07-16T17:13:09.835940Z",
          "iopub.status.busy": "2023-07-16T17:13:09.834999Z",
          "iopub.status.idle": "2023-07-16T17:13:09.841801Z",
          "shell.execute_reply": "2023-07-16T17:13:09.840755Z"
        },
        "papermill": {
          "duration": 0.025107,
          "end_time": "2023-07-16T17:13:09.843942",
          "exception": false,
          "start_time": "2023-07-16T17:13:09.818835",
          "status": "completed"
        },
        "tags": [],
        "id": "c9669129",
        "outputId": "a1fa8c58-1ba6-43fd-b472-964c24a0ba0d",
        "colab": {
          "base_uri": "https://localhost:8080/"
        }
      },
      "outputs": [
        {
          "output_type": "execute_result",
          "data": {
            "text/plain": [
              "(962, 2)"
            ]
          },
          "metadata": {},
          "execution_count": 11
        }
      ],
      "source": [
        "resume_data.shape"
      ]
    },
    {
      "cell_type": "code",
      "execution_count": 12,
      "id": "6dff365d",
      "metadata": {
        "execution": {
          "iopub.execute_input": "2023-07-16T17:13:09.873897Z",
          "iopub.status.busy": "2023-07-16T17:13:09.873510Z",
          "iopub.status.idle": "2023-07-16T17:13:09.895178Z",
          "shell.execute_reply": "2023-07-16T17:13:09.894076Z"
        },
        "papermill": {
          "duration": 0.0395,
          "end_time": "2023-07-16T17:13:09.897511",
          "exception": false,
          "start_time": "2023-07-16T17:13:09.858011",
          "status": "completed"
        },
        "tags": [],
        "id": "6dff365d",
        "outputId": "23ed53d9-7e2e-4e39-ac8f-80bad8e79fb0",
        "colab": {
          "base_uri": "https://localhost:8080/",
          "height": 175
        }
      },
      "outputs": [
        {
          "output_type": "execute_result",
          "data": {
            "text/plain": [
              "              Category                                             Resume\n",
              "count              962                                                962\n",
              "unique              25                                                166\n",
              "top     Java Developer  Technical Skills Web Technologies: Angular JS,...\n",
              "freq                84                                                 18"
            ],
            "text/html": [
              "\n",
              "\n",
              "  <div id=\"df-6565a49a-fc0b-46c5-8137-a605e4ca6d94\">\n",
              "    <div class=\"colab-df-container\">\n",
              "      <div>\n",
              "<style scoped>\n",
              "    .dataframe tbody tr th:only-of-type {\n",
              "        vertical-align: middle;\n",
              "    }\n",
              "\n",
              "    .dataframe tbody tr th {\n",
              "        vertical-align: top;\n",
              "    }\n",
              "\n",
              "    .dataframe thead th {\n",
              "        text-align: right;\n",
              "    }\n",
              "</style>\n",
              "<table border=\"1\" class=\"dataframe\">\n",
              "  <thead>\n",
              "    <tr style=\"text-align: right;\">\n",
              "      <th></th>\n",
              "      <th>Category</th>\n",
              "      <th>Resume</th>\n",
              "    </tr>\n",
              "  </thead>\n",
              "  <tbody>\n",
              "    <tr>\n",
              "      <th>count</th>\n",
              "      <td>962</td>\n",
              "      <td>962</td>\n",
              "    </tr>\n",
              "    <tr>\n",
              "      <th>unique</th>\n",
              "      <td>25</td>\n",
              "      <td>166</td>\n",
              "    </tr>\n",
              "    <tr>\n",
              "      <th>top</th>\n",
              "      <td>Java Developer</td>\n",
              "      <td>Technical Skills Web Technologies: Angular JS,...</td>\n",
              "    </tr>\n",
              "    <tr>\n",
              "      <th>freq</th>\n",
              "      <td>84</td>\n",
              "      <td>18</td>\n",
              "    </tr>\n",
              "  </tbody>\n",
              "</table>\n",
              "</div>\n",
              "      <button class=\"colab-df-convert\" onclick=\"convertToInteractive('df-6565a49a-fc0b-46c5-8137-a605e4ca6d94')\"\n",
              "              title=\"Convert this dataframe to an interactive table.\"\n",
              "              style=\"display:none;\">\n",
              "\n",
              "  <svg xmlns=\"http://www.w3.org/2000/svg\" height=\"24px\"viewBox=\"0 0 24 24\"\n",
              "       width=\"24px\">\n",
              "    <path d=\"M0 0h24v24H0V0z\" fill=\"none\"/>\n",
              "    <path d=\"M18.56 5.44l.94 2.06.94-2.06 2.06-.94-2.06-.94-.94-2.06-.94 2.06-2.06.94zm-11 1L8.5 8.5l.94-2.06 2.06-.94-2.06-.94L8.5 2.5l-.94 2.06-2.06.94zm10 10l.94 2.06.94-2.06 2.06-.94-2.06-.94-.94-2.06-.94 2.06-2.06.94z\"/><path d=\"M17.41 7.96l-1.37-1.37c-.4-.4-.92-.59-1.43-.59-.52 0-1.04.2-1.43.59L10.3 9.45l-7.72 7.72c-.78.78-.78 2.05 0 2.83L4 21.41c.39.39.9.59 1.41.59.51 0 1.02-.2 1.41-.59l7.78-7.78 2.81-2.81c.8-.78.8-2.07 0-2.86zM5.41 20L4 18.59l7.72-7.72 1.47 1.35L5.41 20z\"/>\n",
              "  </svg>\n",
              "      </button>\n",
              "\n",
              "\n",
              "\n",
              "    <div id=\"df-f567379e-fa25-4779-9301-5247867ea0e4\">\n",
              "      <button class=\"colab-df-quickchart\" onclick=\"quickchart('df-f567379e-fa25-4779-9301-5247867ea0e4')\"\n",
              "              title=\"Suggest charts.\"\n",
              "              style=\"display:none;\">\n",
              "\n",
              "<svg xmlns=\"http://www.w3.org/2000/svg\" height=\"24px\"viewBox=\"0 0 24 24\"\n",
              "     width=\"24px\">\n",
              "    <g>\n",
              "        <path d=\"M19 3H5c-1.1 0-2 .9-2 2v14c0 1.1.9 2 2 2h14c1.1 0 2-.9 2-2V5c0-1.1-.9-2-2-2zM9 17H7v-7h2v7zm4 0h-2V7h2v10zm4 0h-2v-4h2v4z\"/>\n",
              "    </g>\n",
              "</svg>\n",
              "      </button>\n",
              "    </div>\n",
              "\n",
              "<style>\n",
              "  .colab-df-quickchart {\n",
              "    background-color: #E8F0FE;\n",
              "    border: none;\n",
              "    border-radius: 50%;\n",
              "    cursor: pointer;\n",
              "    display: none;\n",
              "    fill: #1967D2;\n",
              "    height: 32px;\n",
              "    padding: 0 0 0 0;\n",
              "    width: 32px;\n",
              "  }\n",
              "\n",
              "  .colab-df-quickchart:hover {\n",
              "    background-color: #E2EBFA;\n",
              "    box-shadow: 0px 1px 2px rgba(60, 64, 67, 0.3), 0px 1px 3px 1px rgba(60, 64, 67, 0.15);\n",
              "    fill: #174EA6;\n",
              "  }\n",
              "\n",
              "  [theme=dark] .colab-df-quickchart {\n",
              "    background-color: #3B4455;\n",
              "    fill: #D2E3FC;\n",
              "  }\n",
              "\n",
              "  [theme=dark] .colab-df-quickchart:hover {\n",
              "    background-color: #434B5C;\n",
              "    box-shadow: 0px 1px 3px 1px rgba(0, 0, 0, 0.15);\n",
              "    filter: drop-shadow(0px 1px 2px rgba(0, 0, 0, 0.3));\n",
              "    fill: #FFFFFF;\n",
              "  }\n",
              "</style>\n",
              "\n",
              "    <script>\n",
              "      async function quickchart(key) {\n",
              "        const containerElement = document.querySelector('#' + key);\n",
              "        const charts = await google.colab.kernel.invokeFunction(\n",
              "            'suggestCharts', [key], {});\n",
              "      }\n",
              "    </script>\n",
              "\n",
              "      <script>\n",
              "\n",
              "function displayQuickchartButton(domScope) {\n",
              "  let quickchartButtonEl =\n",
              "    domScope.querySelector('#df-f567379e-fa25-4779-9301-5247867ea0e4 button.colab-df-quickchart');\n",
              "  quickchartButtonEl.style.display =\n",
              "    google.colab.kernel.accessAllowed ? 'block' : 'none';\n",
              "}\n",
              "\n",
              "        displayQuickchartButton(document);\n",
              "      </script>\n",
              "      <style>\n",
              "    .colab-df-container {\n",
              "      display:flex;\n",
              "      flex-wrap:wrap;\n",
              "      gap: 12px;\n",
              "    }\n",
              "\n",
              "    .colab-df-convert {\n",
              "      background-color: #E8F0FE;\n",
              "      border: none;\n",
              "      border-radius: 50%;\n",
              "      cursor: pointer;\n",
              "      display: none;\n",
              "      fill: #1967D2;\n",
              "      height: 32px;\n",
              "      padding: 0 0 0 0;\n",
              "      width: 32px;\n",
              "    }\n",
              "\n",
              "    .colab-df-convert:hover {\n",
              "      background-color: #E2EBFA;\n",
              "      box-shadow: 0px 1px 2px rgba(60, 64, 67, 0.3), 0px 1px 3px 1px rgba(60, 64, 67, 0.15);\n",
              "      fill: #174EA6;\n",
              "    }\n",
              "\n",
              "    [theme=dark] .colab-df-convert {\n",
              "      background-color: #3B4455;\n",
              "      fill: #D2E3FC;\n",
              "    }\n",
              "\n",
              "    [theme=dark] .colab-df-convert:hover {\n",
              "      background-color: #434B5C;\n",
              "      box-shadow: 0px 1px 3px 1px rgba(0, 0, 0, 0.15);\n",
              "      filter: drop-shadow(0px 1px 2px rgba(0, 0, 0, 0.3));\n",
              "      fill: #FFFFFF;\n",
              "    }\n",
              "  </style>\n",
              "\n",
              "      <script>\n",
              "        const buttonEl =\n",
              "          document.querySelector('#df-6565a49a-fc0b-46c5-8137-a605e4ca6d94 button.colab-df-convert');\n",
              "        buttonEl.style.display =\n",
              "          google.colab.kernel.accessAllowed ? 'block' : 'none';\n",
              "\n",
              "        async function convertToInteractive(key) {\n",
              "          const element = document.querySelector('#df-6565a49a-fc0b-46c5-8137-a605e4ca6d94');\n",
              "          const dataTable =\n",
              "            await google.colab.kernel.invokeFunction('convertToInteractive',\n",
              "                                                     [key], {});\n",
              "          if (!dataTable) return;\n",
              "\n",
              "          const docLinkHtml = 'Like what you see? Visit the ' +\n",
              "            '<a target=\"_blank\" href=https://colab.research.google.com/notebooks/data_table.ipynb>data table notebook</a>'\n",
              "            + ' to learn more about interactive tables.';\n",
              "          element.innerHTML = '';\n",
              "          dataTable['output_type'] = 'display_data';\n",
              "          await google.colab.output.renderOutput(dataTable, element);\n",
              "          const docLink = document.createElement('div');\n",
              "          docLink.innerHTML = docLinkHtml;\n",
              "          element.appendChild(docLink);\n",
              "        }\n",
              "      </script>\n",
              "    </div>\n",
              "  </div>\n"
            ]
          },
          "metadata": {},
          "execution_count": 12
        }
      ],
      "source": [
        "resume_data.describe()"
      ]
    },
    {
      "cell_type": "markdown",
      "id": "4e9ead69",
      "metadata": {
        "papermill": {
          "duration": 0.014359,
          "end_time": "2023-07-16T17:13:09.926294",
          "exception": false,
          "start_time": "2023-07-16T17:13:09.911935",
          "status": "completed"
        },
        "tags": [],
        "id": "4e9ead69"
      },
      "source": [
        "#### Bar Plot"
      ]
    },
    {
      "cell_type": "markdown",
      "id": "b43e1887",
      "metadata": {
        "papermill": {
          "duration": 0.014367,
          "end_time": "2023-07-16T17:13:09.955207",
          "exception": false,
          "start_time": "2023-07-16T17:13:09.940840",
          "status": "completed"
        },
        "tags": [],
        "id": "b43e1887"
      },
      "source": [
        "A bar plot or bar chart is a graph that represents the category of data with rectangular bars with lengths and heights that is proportional to the values which they represent."
      ]
    },
    {
      "cell_type": "code",
      "execution_count": 18,
      "id": "272872d5",
      "metadata": {
        "execution": {
          "iopub.execute_input": "2023-07-16T17:13:09.986256Z",
          "iopub.status.busy": "2023-07-16T17:13:09.985579Z",
          "iopub.status.idle": "2023-07-16T17:13:10.553245Z",
          "shell.execute_reply": "2023-07-16T17:13:10.552426Z"
        },
        "papermill": {
          "duration": 0.58576,
          "end_time": "2023-07-16T17:13:10.555533",
          "exception": false,
          "start_time": "2023-07-16T17:13:09.969773",
          "status": "completed"
        },
        "tags": [],
        "id": "272872d5",
        "outputId": "e820504a-b9d6-403b-99e3-bd5ad3d9b488",
        "colab": {
          "base_uri": "https://localhost:8080/",
          "height": 472
        }
      },
      "outputs": [
        {
          "output_type": "display_data",
          "data": {
            "text/plain": [
              "<Figure size 640x480 with 1 Axes>"
            ],
            "image/png": "[encoded data removed]"
          },
          "metadata": {}
        }
      ],
      "source": [
        "\n",
        "a = resume_data.Category.value_counts()\n",
        "\n",
        "x = list(a.index)\n",
        "y = list(a)\n",
        "\n",
        "fig, ax = plt.subplots()\n",
        "width = 0.20 # the width of the bars\n",
        "ind = np.arange(len(y))  # the x locations for the groups\n",
        "ax.barh(ind, y, width, color=\"green\")\n",
        "ax.set_yticks(ind+width/2)\n",
        "ax.set_yticklabels(x, minor=False)\n",
        "for i, v in enumerate(y):\n",
        "    ax.text(v + .25, i + .25, str(v), color='red')\n",
        "plt.title('Bar Plot')\n",
        "plt.xlabel('Count')\n",
        "plt.ylabel('Category')\n",
        "plt.show()\n"
      ]
    },
    {
      "cell_type": "markdown",
      "id": "4cdc5ad7",
      "metadata": {
        "papermill": {
          "duration": 0.01576,
          "end_time": "2023-07-16T17:13:10.586864",
          "exception": false,
          "start_time": "2023-07-16T17:13:10.571104",
          "status": "completed"
        },
        "tags": [],
        "id": "4cdc5ad7"
      },
      "source": [
        "We can clearly see that the top category in this dataset is \"Java Developer\""
      ]
    },
    {
      "cell_type": "markdown",
      "id": "05521ef3",
      "metadata": {
        "papermill": {
          "duration": 0.015198,
          "end_time": "2023-07-16T17:13:10.617620",
          "exception": false,
          "start_time": "2023-07-16T17:13:10.602422",
          "status": "completed"
        },
        "tags": [],
        "id": "05521ef3"
      },
      "source": [
        "#### Pie Chart"
      ]
    },
    {
      "cell_type": "markdown",
      "id": "623b3f9b",
      "metadata": {
        "papermill": {
          "duration": 0.015085,
          "end_time": "2023-07-16T17:13:10.648276",
          "exception": false,
          "start_time": "2023-07-16T17:13:10.633191",
          "status": "completed"
        },
        "tags": [],
        "id": "623b3f9b"
      },
      "source": [
        "A Pie Chart is a circular statistical plot that can display only one series of data. The area of the chart is the total percentage of the given data. The area of slices of the pie represents the percentage of the parts of the data. The slices of pie are called wedges. The area of the wedge is determined by the length of the arc of the wedge. The area of a wedge represents the relative percentage of that part with respect to whole data. Pie charts are commonly used in business presentations like sales, operations, survey results, resources, etc as they provide a quick summary."
      ]
    },
    {
      "cell_type": "code",
      "execution_count": 19,
      "id": "6c15918e",
      "metadata": {
        "execution": {
          "iopub.execute_input": "2023-07-16T17:13:10.681859Z",
          "iopub.status.busy": "2023-07-16T17:13:10.681405Z",
          "iopub.status.idle": "2023-07-16T17:13:11.109501Z",
          "shell.execute_reply": "2023-07-16T17:13:11.108559Z"
        },
        "papermill": {
          "duration": 0.448428,
          "end_time": "2023-07-16T17:13:11.112589",
          "exception": false,
          "start_time": "2023-07-16T17:13:10.664161",
          "status": "completed"
        },
        "tags": [],
        "id": "6c15918e",
        "outputId": "e935141b-8d0f-457f-dc46-8dfe483af8f4",
        "colab": {
          "base_uri": "https://localhost:8080/",
          "height": 807
        }
      },
      "outputs": [
        {
          "output_type": "display_data",
          "data": {
            "text/plain": [
              "<Figure size 1200x1000 with 1 Axes>"
            ],
            "image/png": "[encoded data removed]"
          },
          "metadata": {}
        }
      ],
      "source": [
        "fig = plt.figure(figsize =(12, 10))\n",
        "plt.pie(y, labels = x, startangle = 90)\n",
        "plt.show()"
      ]
    },
    {
      "cell_type": "markdown",
      "id": "b7b7afe3",
      "metadata": {
        "papermill": {
          "duration": 0.01726,
          "end_time": "2023-07-16T17:13:11.147402",
          "exception": false,
          "start_time": "2023-07-16T17:13:11.130142",
          "status": "completed"
        },
        "tags": [],
        "id": "b7b7afe3"
      },
      "source": [
        "### 3 - Data Processing"
      ]
    },
    {
      "cell_type": "markdown",
      "id": "a4e8624a",
      "metadata": {
        "papermill": {
          "duration": 0.017306,
          "end_time": "2023-07-16T17:13:11.182633",
          "exception": false,
          "start_time": "2023-07-16T17:13:11.165327",
          "status": "completed"
        },
        "tags": [],
        "id": "a4e8624a"
      },
      "source": [
        "In this step, we remove any unnecessary information from resumes like URLs, hashtags, and special characters."
      ]
    },
    {
      "cell_type": "markdown",
      "id": "b761a637",
      "metadata": {
        "papermill": {
          "duration": 0.017359,
          "end_time": "2023-07-16T17:13:11.217588",
          "exception": false,
          "start_time": "2023-07-16T17:13:11.200229",
          "status": "completed"
        },
        "tags": [],
        "id": "b761a637"
      },
      "source": [
        "#### Step 1 - Clean the 'Resume' Column"
      ]
    },
    {
      "cell_type": "code",
      "execution_count": 20,
      "id": "32a666e3",
      "metadata": {
        "execution": {
          "iopub.execute_input": "2023-07-16T17:13:11.254877Z",
          "iopub.status.busy": "2023-07-16T17:13:11.254477Z",
          "iopub.status.idle": "2023-07-16T17:13:11.262267Z",
          "shell.execute_reply": "2023-07-16T17:13:11.261091Z"
        },
        "papermill": {
          "duration": 0.029204,
          "end_time": "2023-07-16T17:13:11.264604",
          "exception": false,
          "start_time": "2023-07-16T17:13:11.235400",
          "status": "completed"
        },
        "tags": [],
        "id": "32a666e3"
      },
      "outputs": [],
      "source": [
        "def cleanResume(resumeText):\n",
        "    resumeText = re.sub('httpS+s*', ' ', resumeText)  # remove URLs\n",
        "    resumeText = re.sub('RT|cc', ' ', resumeText)  # remove RT and cc\n",
        "    resumeText = re.sub('#S+', '', resumeText)  # remove hashtags\n",
        "    resumeText = re.sub('@S+', '  ', resumeText)  # remove mentions\n",
        "    resumeText = re.sub('[%s]' % re.escape(\"\"\"!\"#$%&'()*+,-./:;<=>?@[]^_`{|}~\"\"\"), ' ', resumeText)  # remove punctuations\n",
        "    resumeText = re.sub(r'[^x00-x7f]',r' ', resumeText)\n",
        "    resumeText = re.sub('s+', ' ', resumeText)  # remove extra whitespace\n",
        "    return resumeText"
      ]
    },
    {
      "cell_type": "code",
      "execution_count": 21,
      "id": "a0940d58",
      "metadata": {
        "execution": {
          "iopub.execute_input": "2023-07-16T17:13:11.302174Z",
          "iopub.status.busy": "2023-07-16T17:13:11.301440Z",
          "iopub.status.idle": "2023-07-16T17:13:11.903846Z",
          "shell.execute_reply": "2023-07-16T17:13:11.902542Z"
        },
        "papermill": {
          "duration": 0.624265,
          "end_time": "2023-07-16T17:13:11.906604",
          "exception": false,
          "start_time": "2023-07-16T17:13:11.282339",
          "status": "completed"
        },
        "tags": [],
        "id": "a0940d58"
      },
      "outputs": [],
      "source": [
        "resume_data['cleaned_resume'] = resume_data.Resume.apply(lambda x: cleanResume(x))"
      ]
    },
    {
      "cell_type": "code",
      "execution_count": 23,
      "id": "10726d94",
      "metadata": {
        "execution": {
          "iopub.execute_input": "2023-07-16T17:13:11.943330Z",
          "iopub.status.busy": "2023-07-16T17:13:11.942929Z",
          "iopub.status.idle": "2023-07-16T17:13:11.954038Z",
          "shell.execute_reply": "2023-07-16T17:13:11.952942Z"
        },
        "papermill": {
          "duration": 0.032192,
          "end_time": "2023-07-16T17:13:11.956358",
          "exception": false,
          "start_time": "2023-07-16T17:13:11.924166",
          "status": "completed"
        },
        "tags": [],
        "id": "10726d94",
        "outputId": "cf79f32d-17f4-4009-b50e-9cbe5745ec0a",
        "colab": {
          "base_uri": "https://localhost:8080/",
          "height": 143
        }
      },
      "outputs": [
        {
          "output_type": "execute_result",
          "data": {
            "text/plain": [
              "       Category                                             Resume  \\\n",
              "0  Data Science  Skills * Programming Languages: Python (pandas...   \n",
              "1  Data Science  Education Details \\r\\nMay 2013 to May 2017 B.E...   \n",
              "2  Data Science  Areas of Interest Deep Learning, Control Syste...   \n",
              "\n",
              "                                      cleaned_resume  \n",
              "0  Skill    Programming Language   P thon  panda ...  \n",
              "1  Education Detail    Ma  2013 to Ma  2017 B E  ...  \n",
              "2  Area  of Intere t Deep Learning  Control S  te...  "
            ],
            "text/html": [
              "\n",
              "\n",
              "  <div id=\"df-2a76d4e5-e213-4e4d-b289-806e09a76ec0\">\n",
              "    <div class=\"colab-df-container\">\n",
              "      <div>\n",
              "<style scoped>\n",
              "    .dataframe tbody tr th:only-of-type {\n",
              "        vertical-align: middle;\n",
              "    }\n",
              "\n",
              "    .dataframe tbody tr th {\n",
              "        vertical-align: top;\n",
              "    }\n",
              "\n",
              "    .dataframe thead th {\n",
              "        text-align: right;\n",
              "    }\n",
              "</style>\n",
              "<table border=\"1\" class=\"dataframe\">\n",
              "  <thead>\n",
              "    <tr style=\"text-align: right;\">\n",
              "      <th></th>\n",
              "      <th>Category</th>\n",
              "      <th>Resume</th>\n",
              "      <th>cleaned_resume</th>\n",
              "    </tr>\n",
              "  </thead>\n",
              "  <tbody>\n",
              "    <tr>\n",
              "      <th>0</th>\n",
              "      <td>Data Science</td>\n",
              "      <td>Skills * Programming Languages: Python (pandas...</td>\n",
              "      <td>Skill    Programming Language   P thon  panda ...</td>\n",
              "    </tr>\n",
              "    <tr>\n",
              "      <th>1</th>\n",
              "      <td>Data Science</td>\n",
              "      <td>Education Details \\r\\nMay 2013 to May 2017 B.E...</td>\n",
              "      <td>Education Detail    Ma  2013 to Ma  2017 B E  ...</td>\n",
              "    </tr>\n",
              "    <tr>\n",
              "      <th>2</th>\n",
              "      <td>Data Science</td>\n",
              "      <td>Areas of Interest Deep Learning, Control Syste...</td>\n",
              "      <td>Area  of Intere t Deep Learning  Control S  te...</td>\n",
              "    </tr>\n",
              "  </tbody>\n",
              "</table>\n",
              "</div>\n",
              "      <button class=\"colab-df-convert\" onclick=\"convertToInteractive('df-2a76d4e5-e213-4e4d-b289-806e09a76ec0')\"\n",
              "              title=\"Convert this dataframe to an interactive table.\"\n",
              "              style=\"display:none;\">\n",
              "\n",
              "  <svg xmlns=\"http://www.w3.org/2000/svg\" height=\"24px\"viewBox=\"0 0 24 24\"\n",
              "       width=\"24px\">\n",
              "    <path d=\"M0 0h24v24H0V0z\" fill=\"none\"/>\n",
              "    <path d=\"M18.56 5.44l.94 2.06.94-2.06 2.06-.94-2.06-.94-.94-2.06-.94 2.06-2.06.94zm-11 1L8.5 8.5l.94-2.06 2.06-.94-2.06-.94L8.5 2.5l-.94 2.06-2.06.94zm10 10l.94 2.06.94-2.06 2.06-.94-2.06-.94-.94-2.06-.94 2.06-2.06.94z\"/><path d=\"M17.41 7.96l-1.37-1.37c-.4-.4-.92-.59-1.43-.59-.52 0-1.04.2-1.43.59L10.3 9.45l-7.72 7.72c-.78.78-.78 2.05 0 2.83L4 21.41c.39.39.9.59 1.41.59.51 0 1.02-.2 1.41-.59l7.78-7.78 2.81-2.81c.8-.78.8-2.07 0-2.86zM5.41 20L4 18.59l7.72-7.72 1.47 1.35L5.41 20z\"/>\n",
              "  </svg>\n",
              "      </button>\n",
              "\n",
              "\n",
              "\n",
              "    <div id=\"df-95c257f0-a9f6-454e-a75b-d4b887c0907d\">\n",
              "      <button class=\"colab-df-quickchart\" onclick=\"quickchart('df-95c257f0-a9f6-454e-a75b-d4b887c0907d')\"\n",
              "              title=\"Suggest charts.\"\n",
              "              style=\"display:none;\">\n",
              "\n",
              "<svg xmlns=\"http://www.w3.org/2000/svg\" height=\"24px\"viewBox=\"0 0 24 24\"\n",
              "     width=\"24px\">\n",
              "    <g>\n",
              "        <path d=\"M19 3H5c-1.1 0-2 .9-2 2v14c0 1.1.9 2 2 2h14c1.1 0 2-.9 2-2V5c0-1.1-.9-2-2-2zM9 17H7v-7h2v7zm4 0h-2V7h2v10zm4 0h-2v-4h2v4z\"/>\n",
              "    </g>\n",
              "</svg>\n",
              "      </button>\n",
              "    </div>\n",
              "\n",
              "<style>\n",
              "  .colab-df-quickchart {\n",
              "    background-color: #E8F0FE;\n",
              "    border: none;\n",
              "    border-radius: 50%;\n",
              "    cursor: pointer;\n",
              "    display: none;\n",
              "    fill: #1967D2;\n",
              "    height: 32px;\n",
              "    padding: 0 0 0 0;\n",
              "    width: 32px;\n",
              "  }\n",
              "\n",
              "  .colab-df-quickchart:hover {\n",
              "    background-color: #E2EBFA;\n",
              "    box-shadow: 0px 1px 2px rgba(60, 64, 67, 0.3), 0px 1px 3px 1px rgba(60, 64, 67, 0.15);\n",
              "    fill: #174EA6;\n",
              "  }\n",
              "\n",
              "  [theme=dark] .colab-df-quickchart {\n",
              "    background-color: #3B4455;\n",
              "    fill: #D2E3FC;\n",
              "  }\n",
              "\n",
              "  [theme=dark] .colab-df-quickchart:hover {\n",
              "    background-color: #434B5C;\n",
              "    box-shadow: 0px 1px 3px 1px rgba(0, 0, 0, 0.15);\n",
              "    filter: drop-shadow(0px 1px 2px rgba(0, 0, 0, 0.3));\n",
              "    fill: #FFFFFF;\n",
              "  }\n",
              "</style>\n",
              "\n",
              "    <script>\n",
              "      async function quickchart(key) {\n",
              "        const containerElement = document.querySelector('#' + key);\n",
              "        const charts = await google.colab.kernel.invokeFunction(\n",
              "            'suggestCharts', [key], {});\n",
              "      }\n",
              "    </script>\n",
              "\n",
              "      <script>\n",
              "\n",
              "function displayQuickchartButton(domScope) {\n",
              "  let quickchartButtonEl =\n",
              "    domScope.querySelector('#df-95c257f0-a9f6-454e-a75b-d4b887c0907d button.colab-df-quickchart');\n",
              "  quickchartButtonEl.style.display =\n",
              "    google.colab.kernel.accessAllowed ? 'block' : 'none';\n",
              "}\n",
              "\n",
              "        displayQuickchartButton(document);\n",
              "      </script>\n",
              "      <style>\n",
              "    .colab-df-container {\n",
              "      display:flex;\n",
              "      flex-wrap:wrap;\n",
              "      gap: 12px;\n",
              "    }\n",
              "\n",
              "    .colab-df-convert {\n",
              "      background-color: #E8F0FE;\n",
              "      border: none;\n",
              "      border-radius: 50%;\n",
              "      cursor: pointer;\n",
              "      display: none;\n",
              "      fill: #1967D2;\n",
              "      height: 32px;\n",
              "      padding: 0 0 0 0;\n",
              "      width: 32px;\n",
              "    }\n",
              "\n",
              "    .colab-df-convert:hover {\n",
              "      background-color: #E2EBFA;\n",
              "      box-shadow: 0px 1px 2px rgba(60, 64, 67, 0.3), 0px 1px 3px 1px rgba(60, 64, 67, 0.15);\n",
              "      fill: #174EA6;\n",
              "    }\n",
              "\n",
              "    [theme=dark] .colab-df-convert {\n",
              "      background-color: #3B4455;\n",
              "      fill: #D2E3FC;\n",
              "    }\n",
              "\n",
              "    [theme=dark] .colab-df-convert:hover {\n",
              "      background-color: #434B5C;\n",
              "      box-shadow: 0px 1px 3px 1px rgba(0, 0, 0, 0.15);\n",
              "      filter: drop-shadow(0px 1px 2px rgba(0, 0, 0, 0.3));\n",
              "      fill: #FFFFFF;\n",
              "    }\n",
              "  </style>\n",
              "\n",
              "      <script>\n",
              "        const buttonEl =\n",
              "          document.querySelector('#df-2a76d4e5-e213-4e4d-b289-806e09a76ec0 button.colab-df-convert');\n",
              "        buttonEl.style.display =\n",
              "          google.colab.kernel.accessAllowed ? 'block' : 'none';\n",
              "\n",
              "        async function convertToInteractive(key) {\n",
              "          const element = document.querySelector('#df-2a76d4e5-e213-4e4d-b289-806e09a76ec0');\n",
              "          const dataTable =\n",
              "            await google.colab.kernel.invokeFunction('convertToInteractive',\n",
              "                                                     [key], {});\n",
              "          if (!dataTable) return;\n",
              "\n",
              "          const docLinkHtml = 'Like what you see? Visit the ' +\n",
              "            '<a target=\"_blank\" href=https://colab.research.google.com/notebooks/data_table.ipynb>data table notebook</a>'\n",
              "            + ' to learn more about interactive tables.';\n",
              "          element.innerHTML = '';\n",
              "          dataTable['output_type'] = 'display_data';\n",
              "          await google.colab.output.renderOutput(dataTable, element);\n",
              "          const docLink = document.createElement('div');\n",
              "          docLink.innerHTML = docLinkHtml;\n",
              "          element.appendChild(docLink);\n",
              "        }\n",
              "      </script>\n",
              "    </div>\n",
              "  </div>\n"
            ]
          },
          "metadata": {},
          "execution_count": 23
        }
      ],
      "source": [
        "resume_data.head(3)"
      ]
    },
    {
      "cell_type": "markdown",
      "id": "92c4fdd5",
      "metadata": {
        "papermill": {
          "duration": 0.01771,
          "end_time": "2023-07-16T17:13:11.991695",
          "exception": false,
          "start_time": "2023-07-16T17:13:11.973985",
          "status": "completed"
        },
        "tags": [],
        "id": "92c4fdd5"
      },
      "source": [
        "#### Step 2 - Encode 'Category' Column"
      ]
    },
    {
      "cell_type": "markdown",
      "id": "c95a5e09",
      "metadata": {
        "papermill": {
          "duration": 0.017431,
          "end_time": "2023-07-16T17:13:12.026908",
          "exception": false,
          "start_time": "2023-07-16T17:13:12.009477",
          "status": "completed"
        },
        "tags": [],
        "id": "c95a5e09"
      },
      "source": [
        "Now we will encode **Category** column using *LabelEncoder* which is part of *sklearn*. This will encode eaxh category into a class(number) and it will become multi-class classification."
      ]
    },
    {
      "cell_type": "code",
      "source": [
        "var_mod = ['Category']\n",
        "for i in var_mod:\n",
        "  print(i)"
      ],
      "metadata": {
        "colab": {
          "base_uri": "https://localhost:8080/"
        },
        "id": "T_ephZRJhur5",
        "outputId": "dcdd6c70-80ff-4526-c316-5609e330dbb1"
      },
      "id": "T_ephZRJhur5",
      "execution_count": 25,
      "outputs": [
        {
          "output_type": "stream",
          "name": "stdout",
          "text": [
            "Category\n"
          ]
        }
      ]
    },
    {
      "cell_type": "code",
      "execution_count": 24,
      "id": "b38d8eea",
      "metadata": {
        "execution": {
          "iopub.execute_input": "2023-07-16T17:13:12.064233Z",
          "iopub.status.busy": "2023-07-16T17:13:12.063837Z",
          "iopub.status.idle": "2023-07-16T17:13:12.070538Z",
          "shell.execute_reply": "2023-07-16T17:13:12.069345Z"
        },
        "papermill": {
          "duration": 0.028137,
          "end_time": "2023-07-16T17:13:12.072847",
          "exception": false,
          "start_time": "2023-07-16T17:13:12.044710",
          "status": "completed"
        },
        "tags": [],
        "id": "b38d8eea"
      },
      "outputs": [],
      "source": [
        "var_mod = ['Category']\n",
        "le = LabelEncoder()\n",
        "for i in var_mod:\n",
        "    resume_data[i] = le.fit_transform(resume_data[i])"
      ]
    },
    {
      "cell_type": "code",
      "execution_count": null,
      "id": "15c8c006",
      "metadata": {
        "execution": {
          "iopub.execute_input": "2023-07-16T17:13:12.110026Z",
          "iopub.status.busy": "2023-07-16T17:13:12.109634Z",
          "iopub.status.idle": "2023-07-16T17:13:12.117540Z",
          "shell.execute_reply": "2023-07-16T17:13:12.116766Z"
        },
        "papermill": {
          "duration": 0.029246,
          "end_time": "2023-07-16T17:13:12.119944",
          "exception": false,
          "start_time": "2023-07-16T17:13:12.090698",
          "status": "completed"
        },
        "tags": [],
        "id": "15c8c006",
        "outputId": "90169118-d634-4123-c5c8-44113ded98bf"
      },
      "outputs": [
        {
          "data": {
            "text/plain": [
              "0       6\n",
              "1       6\n",
              "2       6\n",
              "3       6\n",
              "4       6\n",
              "       ..\n",
              "957    23\n",
              "958    23\n",
              "959    23\n",
              "960    23\n",
              "961    23\n",
              "Name: Category, Length: 962, dtype: int64"
            ]
          },
          "execution_count": 14,
          "metadata": {},
          "output_type": "execute_result"
        }
      ],
      "source": [
        "resume_data[\"Category\"]"
      ]
    },
    {
      "cell_type": "markdown",
      "id": "6a775e96",
      "metadata": {
        "papermill": {
          "duration": 0.017448,
          "end_time": "2023-07-16T17:13:12.155461",
          "exception": false,
          "start_time": "2023-07-16T17:13:12.138013",
          "status": "completed"
        },
        "tags": [],
        "id": "6a775e96"
      },
      "source": [
        "#### Step 3 - Preprocess the 'cleaned_resume' column"
      ]
    },
    {
      "cell_type": "markdown",
      "id": "2ead1c32",
      "metadata": {
        "papermill": {
          "duration": 0.01765,
          "end_time": "2023-07-16T17:13:12.190889",
          "exception": false,
          "start_time": "2023-07-16T17:13:12.173239",
          "status": "completed"
        },
        "tags": [],
        "id": "2ead1c32"
      },
      "source": [
        "Now its time to preprocess the *cleaned_resume* column and to convert it into vectors. There are a lot of techniques to do it but now we are using **Td-Idf** for this purpose. We will use **TfidfVectorizer** from *sklearn*."
      ]
    },
    {
      "cell_type": "code",
      "execution_count": 26,
      "id": "5cf5e3f3",
      "metadata": {
        "execution": {
          "iopub.execute_input": "2023-07-16T17:13:12.228245Z",
          "iopub.status.busy": "2023-07-16T17:13:12.227853Z",
          "iopub.status.idle": "2023-07-16T17:13:12.233061Z",
          "shell.execute_reply": "2023-07-16T17:13:12.231894Z"
        },
        "papermill": {
          "duration": 0.027028,
          "end_time": "2023-07-16T17:13:12.235704",
          "exception": false,
          "start_time": "2023-07-16T17:13:12.208676",
          "status": "completed"
        },
        "tags": [],
        "id": "5cf5e3f3"
      },
      "outputs": [],
      "source": [
        "requiredText = resume_data['cleaned_resume'].values"
      ]
    },
    {
      "cell_type": "code",
      "source": [
        "requiredText[0:3]"
      ],
      "metadata": {
        "colab": {
          "base_uri": "https://localhost:8080/"
        },
        "id": "clv1Jl2KiCSb",
        "outputId": "43e72574-ff32-46c2-9a25-80c0d74813a3"
      },
      "id": "clv1Jl2KiCSb",
      "execution_count": 43,
      "outputs": [
        {
          "output_type": "execute_result",
          "data": {
            "text/plain": [
              "array(['Skill    Programming Language   P thon  panda   nump    cip    cikit learn  matplotlib   Sql  Java  JavaScript JQuer     Machine learning  Regre ion  SVM  Na  ve Ba e   KNN  Random Fore t  Deci ion Tree   Boo ting technique   Clu ter Anal  i   Word Embedding  Sentiment Anal  i   Natural Language proce ing  Dimen ionalit  reduction  Topic Modelling  LDA  NMF   PCA   Neural Net     Databa e Vi uali ation   M  ql  SqlServer  Ca andra  Hba e  Ela ticSearch D3 j   DC j   Plotl   kibana  matplotlib  ggplot  Tableau    Other   Regular Expre ion  HTML  CSS  Angular 6  Log ta h  Kafka  P thon Fla k  Git  Docker  computer vi ion   Open CV and under tanding of Deep learning Education Detail      Data Science A urance A ociate     Data Science A urance A ociate   Ern t   Young LLP  Skill Detail    JAVASCRIPT  Exprience   24 month   jQuer   Exprience   24 month   P thon  Exprience   24 month Compan  Detail    compan    Ern t   Young LLP  de cription   Fraud Inve tigation  and Di pute Service    A urance  TECHNOLOGY ASSISTED REVIEW  TAR  Technolog  A i ted Review  a i t  in a elerating the review proce  and run anal tic  and generate report      Core member of a team helped in developing automated review platform tool from  cratch for a i ting E di cover  domain  thi  tool implement  predictive coding and topic modelling b  automating review   re ulting in reduced labor co t  and time  pent during the law er  review     Under tand the end to end flow of the  olution  doing re earch and development for cla ification model   predictive anal  i  and mining of the information pre ent in text data  Worked on anal  ing the output  and preci ion monitoring for the entire tool     TAR a i t  in predictive coding  topic modelling from the evidence b  following EY  tandard   Developed the cla ifier model  in order to identif   red flag   and fraud related i ue      Tool    Technologie   P thon   cikit learn  tfidf  word2vec  doc2vec  co ine  imilarit   Na  ve Ba e   LDA  NMF for topic modelling  Vader and text blob for  entiment anal  i   Matplot lib  Tableau da hboard for reporting     MULTIPLE DATA SCIENCE AND ANALYTIC PROJECTS  USA CLIENTS   TEXT ANALYTICS   MOTOR VEHICLE CUSTOMER REVIEW DATA   Received cu tomer feedback  urve  data for pa t one  ear  Performed  entiment  Po itive  Negative   Neutral  and time  erie  anal  i  on cu tomer comment  acro  all 4 categorie      Created heat map of term  b   urve  categor  ba ed on frequenc  of word    Extracted Po itive and Negative word  acro  all the Surve  categorie  and plotted Word cloud     Created cu tomi ed tableau da hboard  for effective reporting and vi uali ation    CHATBOT   Developed a u er friendl  chatbot for one of our Product  which handle  imple que tion  about hour  of operation  re ervation option  and  o on     Thi  chat bot  erve  entire product related que tion   Giving overview of tool via QA platform and al o give recommendation re pon e   o that u er que tion to build chain of relevant an wer     Thi  too ha  intelligence to build the pipeline of que tion  a  per u er requirement and a k  the relevant  recommended que tion      Tool    Technologie   P thon  Natural language proce ing  NLTK   pac   topic modelling  Sentiment anal  i   Word Embedding   cikit learn  JavaScript JQuer   SqlServer    INFORMATION GOVERNANCE  Organi ation  to make informed deci ion  about all of the information the   tore  The integrated Information Governance portfolio   nthe i e  intelligence acro  un tructured data  ource  and facilitate  action to en ure organi ation  are be t po itioned to counter information ri k     Scan data from multiple  ource  of format  and par e different file format   extract Meta data information  pu h re ult  for indexing ela tic  earch and created cu tomi ed  interactive da hboard  u ing kibana     Preforming ROT Anal  i  on the data which give information of data which help  identif  content that i  either Redundant  Outdated  or Trivial     Preforming full text  earch anal  i  on ela tic  earch with predefined method  which can tag a   PII  per onall  identifiable information   ocial  ecurit  number   addre e   name   etc   which frequentl  targeted during c ber attack    Tool    Technologie   P thon  Fla k  Ela tic Search  Kibana    FRAUD ANALYTIC PLATFORM  Fraud Anal tic  and inve tigative platform to review all red flag ca e        FAP i  a Fraud Anal tic  and inve tigative platform with inbuilt ca e manager and  uite of Anal tic  for variou  ERP    tem      It can be u ed b  client  to interrogate their A ounting    tem  for identif ing the anomalie  which can be indicator  of fraud b  running advanced anal tic   Tool    Technologie   HTML  JavaScript  SqlServer  JQuer   CSS  Boot trap  Node j   D3 j   DC j ',\n",
              "       'Education Detail    Ma  2013 to Ma  2017 B E   UIT RGPV  Data Scienti t     Data Scienti t   Matelab   Skill Detail    P thon  Exprience   Le  than 1  ear month   Stat model   Exprience   12 month   AWS  Exprience   Le  than 1  ear month   Machine learning  Exprience   Le  than 1  ear month   Sklearn  Exprience   Le  than 1  ear month   Scip   Exprience   Le  than 1  ear month   Kera   Exprience   Le  than 1  ear month Compan  Detail    compan    Matelab   de cription   ML Platform for bu ine  profe ional   dummie  and enthu ia t    60 A Koramangala 5th block   Achievement  Ta k  behind  ukh  agar  Bengaluru   India                               Developed and deplo ed auto preproce ing  tep  of machine learning mainl  mi ing value  treatment  outlier detection  encoding   caling  feature  election and dimen ionalit  reduction   Deplo ed automated cla ification and regre ion model   linkedin com in adit a rathore   b4600b146                           Rea earch and deplo ed the time  erie  foreca ting model ARIMA  SARIMAX  Holt winter and  Prophet   Worked on meta feature extracting problem   github com rathorolog   Implemented a  tate of the art re earch paper on outlier detection for mixed attribute    compan    Matelab   de cription   ',\n",
              "       'Area  of Intere t Deep Learning  Control S  tem De ign  Programming in P thon  Electric Machiner   Web Development  Anal tic  Technical Activitie  q Hindu tan Aeronautic  Limited  Bangalore   For 4 week  under the guidance of Mr  Sati h  Senior Engineer in the hangar of Mirage 2000 fighter aircraft Technical Skill  Programming Matlab  P thon and Java  LabView  P thon WebFrameWork Django  Fla k  LTSPICE intermediate Language  and and MIPOWER intermediate  Github  GitBa h   Jup ter Notebook  Xampp  M SQL Ba ic   P thon Software Package  Interpreter  Anaconda  P thon2  P thon3  P charm  Java IDE Eclip e Operating S  tem  Window   Ubuntu  Debian Kali Linux Education Detail    Januar  2019 B Tech  Electrical and Electronic  Engineering  Manipal In titute of Technolog   Januar  2015    DEEKSHA CENTER  Januar  2013    Little Flower Public School  Augu t 2000    Manipal Academ  of Higher  DATA SCIENCE     DATA SCIENCE AND ELECTRICAL ENTHUSIAST  Skill Detail    Data Anal  i   Exprience   Le  than 1  ear month   excel  Exprience   Le  than 1  ear month   Machine Learning  Exprience   Le  than 1  ear month   mathematic   Exprience   Le  than 1  ear month   P thon  Exprience   Le  than 1  ear month   Matlab  Exprience   Le  than 1  ear month   Electrical Engineering  Exprience   Le  than 1  ear month   Sql  Exprience   Le  than 1  ear month Compan  Detail    compan    THEMATHCOMPANY  de cription   I am currentl  working with a Ca ino ba ed operator name not to be di clo ed  in Macau I need to  egment the cu tomer  who vi it their propert  ba ed on the value the patron  bring into the compan  Ba icall  prove that the  egmentation can be done in much better wa  than the current    tem which the  have with proper number  to back it up Henceforth the  can implement target marketing  trateg  to attract their cu tomer  who add value to the bu ine  '],\n",
              "      dtype=object)"
            ]
          },
          "metadata": {},
          "execution_count": 43
        }
      ]
    },
    {
      "cell_type": "code",
      "execution_count": 29,
      "id": "7cff802b",
      "metadata": {
        "execution": {
          "iopub.execute_input": "2023-07-16T17:13:12.273429Z",
          "iopub.status.busy": "2023-07-16T17:13:12.273018Z",
          "iopub.status.idle": "2023-07-16T17:13:12.278254Z",
          "shell.execute_reply": "2023-07-16T17:13:12.277146Z"
        },
        "papermill": {
          "duration": 0.026633,
          "end_time": "2023-07-16T17:13:12.280269",
          "exception": false,
          "start_time": "2023-07-16T17:13:12.253636",
          "status": "completed"
        },
        "tags": [],
        "id": "7cff802b"
      },
      "outputs": [],
      "source": [
        "requiredTarget = resume_data['Category'].values"
      ]
    },
    {
      "cell_type": "code",
      "source": [
        "requiredTarget [0:5]"
      ],
      "metadata": {
        "colab": {
          "base_uri": "https://localhost:8080/"
        },
        "id": "_l2MQQRViSja",
        "outputId": "02809681-cdf8-4a6f-8528-0171f02e017f"
      },
      "id": "_l2MQQRViSja",
      "execution_count": 42,
      "outputs": [
        {
          "output_type": "execute_result",
          "data": {
            "text/plain": [
              "array([6, 6, 6, 6, 6])"
            ]
          },
          "metadata": {},
          "execution_count": 42
        }
      ]
    },
    {
      "cell_type": "code",
      "execution_count": 31,
      "id": "614ef750",
      "metadata": {
        "execution": {
          "iopub.execute_input": "2023-07-16T17:13:12.319209Z",
          "iopub.status.busy": "2023-07-16T17:13:12.318843Z",
          "iopub.status.idle": "2023-07-16T17:13:12.323712Z",
          "shell.execute_reply": "2023-07-16T17:13:12.322541Z"
        },
        "papermill": {
          "duration": 0.026306,
          "end_time": "2023-07-16T17:13:12.325959",
          "exception": false,
          "start_time": "2023-07-16T17:13:12.299653",
          "status": "completed"
        },
        "tags": [],
        "id": "614ef750"
      },
      "outputs": [],
      "source": [
        "word_vectorizer = TfidfVectorizer(\n",
        "    sublinear_tf=True,\n",
        "    stop_words='english',\n",
        "    max_features=1500)"
      ]
    },
    {
      "cell_type": "code",
      "execution_count": 32,
      "id": "09339574",
      "metadata": {
        "execution": {
          "iopub.execute_input": "2023-07-16T17:13:12.364633Z",
          "iopub.status.busy": "2023-07-16T17:13:12.363945Z",
          "iopub.status.idle": "2023-07-16T17:13:12.886053Z",
          "shell.execute_reply": "2023-07-16T17:13:12.884922Z"
        },
        "papermill": {
          "duration": 0.544875,
          "end_time": "2023-07-16T17:13:12.888723",
          "exception": false,
          "start_time": "2023-07-16T17:13:12.343848",
          "status": "completed"
        },
        "tags": [],
        "id": "09339574",
        "outputId": "1786c0a3-58f6-4204-d5cc-1e9335c9cf47",
        "colab": {
          "base_uri": "https://localhost:8080/",
          "height": 74
        }
      },
      "outputs": [
        {
          "output_type": "execute_result",
          "data": {
            "text/plain": [
              "TfidfVectorizer(max_features=1500, stop_words='english', sublinear_tf=True)"
            ],
            "text/html": [
              "<style>#sk-container-id-1 {color: black;background-color: white;}#sk-container-id-1 pre{padding: 0;}#sk-container-id-1 div.sk-toggleable {background-color: white;}#sk-container-id-1 label.sk-toggleable__label {cursor: pointer;display: block;width: 100%;margin-bottom: 0;padding: 0.3em;box-sizing: border-box;text-align: center;}#sk-container-id-1 label.sk-toggleable__label-arrow:before {content: \"▸\";float: left;margin-right: 0.25em;color: #696969;}#sk-container-id-1 label.sk-toggleable__label-arrow:hover:before {color: black;}#sk-container-id-1 div.sk-estimator:hover label.sk-toggleable__label-arrow:before {color: black;}#sk-container-id-1 div.sk-toggleable__content {max-height: 0;max-width: 0;overflow: hidden;text-align: left;background-color: #f0f8ff;}#sk-container-id-1 div.sk-toggleable__content pre {margin: 0.2em;color: black;border-radius: 0.25em;background-color: #f0f8ff;}#sk-container-id-1 input.sk-toggleable__control:checked~div.sk-toggleable__content {max-height: 200px;max-width: 100%;overflow: auto;}#sk-container-id-1 input.sk-toggleable__control:checked~label.sk-toggleable__label-arrow:before {content: \"▾\";}#sk-container-id-1 div.sk-estimator input.sk-toggleable__control:checked~label.sk-toggleable__label {background-color: #d4ebff;}#sk-container-id-1 div.sk-label input.sk-toggleable__control:checked~label.sk-toggleable__label {background-color: #d4ebff;}#sk-container-id-1 input.sk-hidden--visually {border: 0;clip: rect(1px 1px 1px 1px);clip: rect(1px, 1px, 1px, 1px);height: 1px;margin: -1px;overflow: hidden;padding: 0;position: absolute;width: 1px;}#sk-container-id-1 div.sk-estimator {font-family: monospace;background-color: #f0f8ff;border: 1px dotted black;border-radius: 0.25em;box-sizing: border-box;margin-bottom: 0.5em;}#sk-container-id-1 div.sk-estimator:hover {background-color: #d4ebff;}#sk-container-id-1 div.sk-parallel-item::after {content: \"\";width: 100%;border-bottom: 1px solid gray;flex-grow: 1;}#sk-container-id-1 div.sk-label:hover label.sk-toggleable__label {background-color: #d4ebff;}#sk-container-id-1 div.sk-serial::before {content: \"\";position: absolute;border-left: 1px solid gray;box-sizing: border-box;top: 0;bottom: 0;left: 50%;z-index: 0;}#sk-container-id-1 div.sk-serial {display: flex;flex-direction: column;align-items: center;background-color: white;padding-right: 0.2em;padding-left: 0.2em;position: relative;}#sk-container-id-1 div.sk-item {position: relative;z-index: 1;}#sk-container-id-1 div.sk-parallel {display: flex;align-items: stretch;justify-content: center;background-color: white;position: relative;}#sk-container-id-1 div.sk-item::before, #sk-container-id-1 div.sk-parallel-item::before {content: \"\";position: absolute;border-left: 1px solid gray;box-sizing: border-box;top: 0;bottom: 0;left: 50%;z-index: -1;}#sk-container-id-1 div.sk-parallel-item {display: flex;flex-direction: column;z-index: 1;position: relative;background-color: white;}#sk-container-id-1 div.sk-parallel-item:first-child::after {align-self: flex-end;width: 50%;}#sk-container-id-1 div.sk-parallel-item:last-child::after {align-self: flex-start;width: 50%;}#sk-container-id-1 div.sk-parallel-item:only-child::after {width: 0;}#sk-container-id-1 div.sk-dashed-wrapped {border: 1px dashed gray;margin: 0 0.4em 0.5em 0.4em;box-sizing: border-box;padding-bottom: 0.4em;background-color: white;}#sk-container-id-1 div.sk-label label {font-family: monospace;font-weight: bold;display: inline-block;line-height: 1.2em;}#sk-container-id-1 div.sk-label-container {text-align: center;}#sk-container-id-1 div.sk-container {/* jupyter's `normalize.less` sets `[hidden] { display: none; }` but bootstrap.min.css set `[hidden] { display: none !important; }` so we also need the `!important` here to be able to override the default hidden behavior on the sphinx rendered scikit-learn.org. See: https://github.com/scikit-learn/scikit-learn/issues/21755 */display: inline-block !important;position: relative;}#sk-container-id-1 div.sk-text-repr-fallback {display: none;}</style><div id=\"sk-container-id-1\" class=\"sk-top-container\"><div class=\"sk-text-repr-fallback\"><pre>TfidfVectorizer(max_features=1500, stop_words=&#x27;english&#x27;, sublinear_tf=True)</pre><b>In a Jupyter environment, please rerun this cell to show the HTML representation or trust the notebook. <br />On GitHub, the HTML representation is unable to render, please try loading this page with nbviewer.org.</b></div><div class=\"sk-container\" hidden><div class=\"sk-item\"><div class=\"sk-estimator sk-toggleable\"><input class=\"sk-toggleable__control sk-hidden--visually\" id=\"sk-estimator-id-1\" type=\"checkbox\" checked><label for=\"sk-estimator-id-1\" class=\"sk-toggleable__label sk-toggleable__label-arrow\">TfidfVectorizer</label><div class=\"sk-toggleable__content\"><pre>TfidfVectorizer(max_features=1500, stop_words=&#x27;english&#x27;, sublinear_tf=True)</pre></div></div></div></div></div>"
            ]
          },
          "metadata": {},
          "execution_count": 32
        }
      ],
      "source": [
        "word_vectorizer.fit(requiredText)"
      ]
    },
    {
      "cell_type": "code",
      "execution_count": 33,
      "id": "a40f2a62",
      "metadata": {
        "execution": {
          "iopub.execute_input": "2023-07-16T17:13:12.928412Z",
          "iopub.status.busy": "2023-07-16T17:13:12.927392Z",
          "iopub.status.idle": "2023-07-16T17:13:13.465281Z",
          "shell.execute_reply": "2023-07-16T17:13:13.464201Z"
        },
        "papermill": {
          "duration": 0.561188,
          "end_time": "2023-07-16T17:13:13.468404",
          "exception": false,
          "start_time": "2023-07-16T17:13:12.907216",
          "status": "completed"
        },
        "tags": [],
        "id": "a40f2a62"
      },
      "outputs": [],
      "source": [
        "WordFeatures = word_vectorizer.transform(requiredText)"
      ]
    },
    {
      "cell_type": "code",
      "source": [
        "WordFeatures"
      ],
      "metadata": {
        "colab": {
          "base_uri": "https://localhost:8080/"
        },
        "id": "3JkGMTWtir2_",
        "outputId": "8845f360-0a89-4d33-f546-11528886c02f"
      },
      "id": "3JkGMTWtir2_",
      "execution_count": 34,
      "outputs": [
        {
          "output_type": "execute_result",
          "data": {
            "text/plain": [
              "<962x1500 sparse matrix of type '<class 'numpy.float64'>'\n",
              "\twith 124956 stored elements in Compressed Sparse Row format>"
            ]
          },
          "metadata": {},
          "execution_count": 34
        }
      ]
    },
    {
      "cell_type": "markdown",
      "id": "a9c889ce",
      "metadata": {
        "papermill": {
          "duration": 0.020634,
          "end_time": "2023-07-16T17:13:13.508242",
          "exception": false,
          "start_time": "2023-07-16T17:13:13.487608",
          "status": "completed"
        },
        "tags": [],
        "id": "a9c889ce"
      },
      "source": [
        "### 4 - Model Building"
      ]
    },
    {
      "cell_type": "markdown",
      "id": "76922adf",
      "metadata": {
        "papermill": {
          "duration": 0.017929,
          "end_time": "2023-07-16T17:13:13.545713",
          "exception": false,
          "start_time": "2023-07-16T17:13:13.527784",
          "status": "completed"
        },
        "tags": [],
        "id": "76922adf"
      },
      "source": [
        "#### Split the Data"
      ]
    },
    {
      "cell_type": "markdown",
      "id": "064a4710",
      "metadata": {
        "papermill": {
          "duration": 0.018036,
          "end_time": "2023-07-16T17:13:13.582031",
          "exception": false,
          "start_time": "2023-07-16T17:13:13.563995",
          "status": "completed"
        },
        "tags": [],
        "id": "064a4710"
      },
      "source": [
        "But, First we have to split the data into train and validation. We will use 80% data for training and 20% data for validation. Let’s split the data now into training and test set."
      ]
    },
    {
      "cell_type": "code",
      "execution_count": 35,
      "id": "880a451d",
      "metadata": {
        "execution": {
          "iopub.execute_input": "2023-07-16T17:13:13.620629Z",
          "iopub.status.busy": "2023-07-16T17:13:13.620193Z",
          "iopub.status.idle": "2023-07-16T17:13:13.628814Z",
          "shell.execute_reply": "2023-07-16T17:13:13.627889Z"
        },
        "papermill": {
          "duration": 0.030604,
          "end_time": "2023-07-16T17:13:13.631031",
          "exception": false,
          "start_time": "2023-07-16T17:13:13.600427",
          "status": "completed"
        },
        "tags": [],
        "id": "880a451d"
      },
      "outputs": [],
      "source": [
        "X_train,X_test,y_train,y_test = train_test_split(WordFeatures,requiredTarget,random_state=0, test_size=0.2)"
      ]
    },
    {
      "cell_type": "code",
      "execution_count": 36,
      "id": "236b3d1d",
      "metadata": {
        "execution": {
          "iopub.execute_input": "2023-07-16T17:13:13.670282Z",
          "iopub.status.busy": "2023-07-16T17:13:13.669544Z",
          "iopub.status.idle": "2023-07-16T17:13:13.675228Z",
          "shell.execute_reply": "2023-07-16T17:13:13.673912Z"
        },
        "papermill": {
          "duration": 0.028095,
          "end_time": "2023-07-16T17:13:13.677451",
          "exception": false,
          "start_time": "2023-07-16T17:13:13.649356",
          "status": "completed"
        },
        "tags": [],
        "id": "236b3d1d",
        "outputId": "f85542f0-b838-4419-8c41-05d76f3867b6",
        "colab": {
          "base_uri": "https://localhost:8080/"
        }
      },
      "outputs": [
        {
          "output_type": "stream",
          "name": "stdout",
          "text": [
            "(769, 1500)\n",
            "(193, 1500)\n"
          ]
        }
      ],
      "source": [
        "print(X_train.shape)\n",
        "print(X_test.shape)"
      ]
    },
    {
      "cell_type": "markdown",
      "id": "2115e9bd",
      "metadata": {
        "papermill": {
          "duration": 0.018108,
          "end_time": "2023-07-16T17:13:13.714279",
          "exception": false,
          "start_time": "2023-07-16T17:13:13.696171",
          "status": "completed"
        },
        "tags": [],
        "id": "2115e9bd"
      },
      "source": [
        "Now its time to build the model. We are using **KNeighborsClassifier** to build this model for multi class classification"
      ]
    },
    {
      "cell_type": "code",
      "execution_count": 37,
      "id": "30f0bb00",
      "metadata": {
        "execution": {
          "iopub.execute_input": "2023-07-16T17:13:13.753435Z",
          "iopub.status.busy": "2023-07-16T17:13:13.752214Z",
          "iopub.status.idle": "2023-07-16T17:13:13.756944Z",
          "shell.execute_reply": "2023-07-16T17:13:13.756168Z"
        },
        "papermill": {
          "duration": 0.026367,
          "end_time": "2023-07-16T17:13:13.758945",
          "exception": false,
          "start_time": "2023-07-16T17:13:13.732578",
          "status": "completed"
        },
        "tags": [],
        "id": "30f0bb00"
      },
      "outputs": [],
      "source": [
        "clf = KNeighborsClassifier()"
      ]
    },
    {
      "cell_type": "code",
      "execution_count": 38,
      "id": "9fa276fe",
      "metadata": {
        "execution": {
          "iopub.execute_input": "2023-07-16T17:13:13.797209Z",
          "iopub.status.busy": "2023-07-16T17:13:13.796462Z",
          "iopub.status.idle": "2023-07-16T17:13:13.805147Z",
          "shell.execute_reply": "2023-07-16T17:13:13.804311Z"
        },
        "papermill": {
          "duration": 0.030195,
          "end_time": "2023-07-16T17:13:13.807240",
          "exception": false,
          "start_time": "2023-07-16T17:13:13.777045",
          "status": "completed"
        },
        "tags": [],
        "id": "9fa276fe",
        "outputId": "9bcf06c3-c8cb-408d-cfcb-99d9d6a00bb7",
        "colab": {
          "base_uri": "https://localhost:8080/",
          "height": 74
        }
      },
      "outputs": [
        {
          "output_type": "execute_result",
          "data": {
            "text/plain": [
              "KNeighborsClassifier()"
            ],
            "text/html": [
              "<style>#sk-container-id-2 {color: black;background-color: white;}#sk-container-id-2 pre{padding: 0;}#sk-container-id-2 div.sk-toggleable {background-color: white;}#sk-container-id-2 label.sk-toggleable__label {cursor: pointer;display: block;width: 100%;margin-bottom: 0;padding: 0.3em;box-sizing: border-box;text-align: center;}#sk-container-id-2 label.sk-toggleable__label-arrow:before {content: \"▸\";float: left;margin-right: 0.25em;color: #696969;}#sk-container-id-2 label.sk-toggleable__label-arrow:hover:before {color: black;}#sk-container-id-2 div.sk-estimator:hover label.sk-toggleable__label-arrow:before {color: black;}#sk-container-id-2 div.sk-toggleable__content {max-height: 0;max-width: 0;overflow: hidden;text-align: left;background-color: #f0f8ff;}#sk-container-id-2 div.sk-toggleable__content pre {margin: 0.2em;color: black;border-radius: 0.25em;background-color: #f0f8ff;}#sk-container-id-2 input.sk-toggleable__control:checked~div.sk-toggleable__content {max-height: 200px;max-width: 100%;overflow: auto;}#sk-container-id-2 input.sk-toggleable__control:checked~label.sk-toggleable__label-arrow:before {content: \"▾\";}#sk-container-id-2 div.sk-estimator input.sk-toggleable__control:checked~label.sk-toggleable__label {background-color: #d4ebff;}#sk-container-id-2 div.sk-label input.sk-toggleable__control:checked~label.sk-toggleable__label {background-color: #d4ebff;}#sk-container-id-2 input.sk-hidden--visually {border: 0;clip: rect(1px 1px 1px 1px);clip: rect(1px, 1px, 1px, 1px);height: 1px;margin: -1px;overflow: hidden;padding: 0;position: absolute;width: 1px;}#sk-container-id-2 div.sk-estimator {font-family: monospace;background-color: #f0f8ff;border: 1px dotted black;border-radius: 0.25em;box-sizing: border-box;margin-bottom: 0.5em;}#sk-container-id-2 div.sk-estimator:hover {background-color: #d4ebff;}#sk-container-id-2 div.sk-parallel-item::after {content: \"\";width: 100%;border-bottom: 1px solid gray;flex-grow: 1;}#sk-container-id-2 div.sk-label:hover label.sk-toggleable__label {background-color: #d4ebff;}#sk-container-id-2 div.sk-serial::before {content: \"\";position: absolute;border-left: 1px solid gray;box-sizing: border-box;top: 0;bottom: 0;left: 50%;z-index: 0;}#sk-container-id-2 div.sk-serial {display: flex;flex-direction: column;align-items: center;background-color: white;padding-right: 0.2em;padding-left: 0.2em;position: relative;}#sk-container-id-2 div.sk-item {position: relative;z-index: 1;}#sk-container-id-2 div.sk-parallel {display: flex;align-items: stretch;justify-content: center;background-color: white;position: relative;}#sk-container-id-2 div.sk-item::before, #sk-container-id-2 div.sk-parallel-item::before {content: \"\";position: absolute;border-left: 1px solid gray;box-sizing: border-box;top: 0;bottom: 0;left: 50%;z-index: -1;}#sk-container-id-2 div.sk-parallel-item {display: flex;flex-direction: column;z-index: 1;position: relative;background-color: white;}#sk-container-id-2 div.sk-parallel-item:first-child::after {align-self: flex-end;width: 50%;}#sk-container-id-2 div.sk-parallel-item:last-child::after {align-self: flex-start;width: 50%;}#sk-container-id-2 div.sk-parallel-item:only-child::after {width: 0;}#sk-container-id-2 div.sk-dashed-wrapped {border: 1px dashed gray;margin: 0 0.4em 0.5em 0.4em;box-sizing: border-box;padding-bottom: 0.4em;background-color: white;}#sk-container-id-2 div.sk-label label {font-family: monospace;font-weight: bold;display: inline-block;line-height: 1.2em;}#sk-container-id-2 div.sk-label-container {text-align: center;}#sk-container-id-2 div.sk-container {/* jupyter's `normalize.less` sets `[hidden] { display: none; }` but bootstrap.min.css set `[hidden] { display: none !important; }` so we also need the `!important` here to be able to override the default hidden behavior on the sphinx rendered scikit-learn.org. See: https://github.com/scikit-learn/scikit-learn/issues/21755 */display: inline-block !important;position: relative;}#sk-container-id-2 div.sk-text-repr-fallback {display: none;}</style><div id=\"sk-container-id-2\" class=\"sk-top-container\"><div class=\"sk-text-repr-fallback\"><pre>KNeighborsClassifier()</pre><b>In a Jupyter environment, please rerun this cell to show the HTML representation or trust the notebook. <br />On GitHub, the HTML representation is unable to render, please try loading this page with nbviewer.org.</b></div><div class=\"sk-container\" hidden><div class=\"sk-item\"><div class=\"sk-estimator sk-toggleable\"><input class=\"sk-toggleable__control sk-hidden--visually\" id=\"sk-estimator-id-2\" type=\"checkbox\" checked><label for=\"sk-estimator-id-2\" class=\"sk-toggleable__label sk-toggleable__label-arrow\">KNeighborsClassifier</label><div class=\"sk-toggleable__content\"><pre>KNeighborsClassifier()</pre></div></div></div></div></div>"
            ]
          },
          "metadata": {},
          "execution_count": 38
        }
      ],
      "source": [
        "clf.fit(X_train, y_train)"
      ]
    },
    {
      "cell_type": "code",
      "execution_count": 39,
      "id": "19275818",
      "metadata": {
        "execution": {
          "iopub.execute_input": "2023-07-16T17:13:13.846337Z",
          "iopub.status.busy": "2023-07-16T17:13:13.845653Z",
          "iopub.status.idle": "2023-07-16T17:13:15.029847Z",
          "shell.execute_reply": "2023-07-16T17:13:15.028827Z"
        },
        "papermill": {
          "duration": 1.206932,
          "end_time": "2023-07-16T17:13:15.032555",
          "exception": false,
          "start_time": "2023-07-16T17:13:13.825623",
          "status": "completed"
        },
        "tags": [],
        "id": "19275818"
      },
      "outputs": [],
      "source": [
        "prediction = clf.predict(X_test)"
      ]
    },
    {
      "cell_type": "markdown",
      "id": "a940e3e3",
      "metadata": {
        "papermill": {
          "duration": 0.018446,
          "end_time": "2023-07-16T17:13:15.070331",
          "exception": false,
          "start_time": "2023-07-16T17:13:15.051885",
          "status": "completed"
        },
        "tags": [],
        "id": "a940e3e3"
      },
      "source": [
        "### 5 - Results"
      ]
    },
    {
      "cell_type": "markdown",
      "id": "4d6be587",
      "metadata": {
        "papermill": {
          "duration": 0.018215,
          "end_time": "2023-07-16T17:13:15.107055",
          "exception": false,
          "start_time": "2023-07-16T17:13:15.088840",
          "status": "completed"
        },
        "tags": [],
        "id": "4d6be587"
      },
      "source": [
        "Now its time to see how well our model performed."
      ]
    },
    {
      "cell_type": "code",
      "execution_count": 40,
      "id": "af2d02b3",
      "metadata": {
        "execution": {
          "iopub.execute_input": "2023-07-16T17:13:15.145770Z",
          "iopub.status.busy": "2023-07-16T17:13:15.145354Z",
          "iopub.status.idle": "2023-07-16T17:13:20.962900Z",
          "shell.execute_reply": "2023-07-16T17:13:20.962023Z"
        },
        "papermill": {
          "duration": 5.840073,
          "end_time": "2023-07-16T17:13:20.965592",
          "exception": false,
          "start_time": "2023-07-16T17:13:15.125519",
          "status": "completed"
        },
        "tags": [],
        "id": "af2d02b3",
        "outputId": "6fd565f3-ee11-41ef-c275-e19ff805020f",
        "colab": {
          "base_uri": "https://localhost:8080/"
        }
      },
      "outputs": [
        {
          "output_type": "stream",
          "name": "stdout",
          "text": [
            "Accuracy of KNeighbors Classifier on training set: 0.99\n",
            "Accuracy of KNeighbors Classifier on test set: 0.99\n"
          ]
        }
      ],
      "source": [
        "print('Accuracy of KNeighbors Classifier on training set: {:.2f}'.format(clf.score(X_train, y_train)))\n",
        "print('Accuracy of KNeighbors Classifier on test set: {:.2f}'.format(clf.score(X_test, y_test)))"
      ]
    },
    {
      "cell_type": "markdown",
      "id": "8ed84b4b",
      "metadata": {
        "papermill": {
          "duration": 0.018576,
          "end_time": "2023-07-16T17:13:21.003379",
          "exception": false,
          "start_time": "2023-07-16T17:13:20.984803",
          "status": "completed"
        },
        "tags": [],
        "id": "8ed84b4b"
      },
      "source": [
        "We can see that results are awesome. We are able to classify each Category of a given resume with 99% accuracy."
      ]
    },
    {
      "cell_type": "code",
      "execution_count": 41,
      "id": "9a31f691",
      "metadata": {
        "execution": {
          "iopub.execute_input": "2023-07-16T17:13:21.042971Z",
          "iopub.status.busy": "2023-07-16T17:13:21.042571Z",
          "iopub.status.idle": "2023-07-16T17:13:21.056471Z",
          "shell.execute_reply": "2023-07-16T17:13:21.055609Z"
        },
        "papermill": {
          "duration": 0.036295,
          "end_time": "2023-07-16T17:13:21.058863",
          "exception": false,
          "start_time": "2023-07-16T17:13:21.022568",
          "status": "completed"
        },
        "tags": [],
        "id": "9a31f691",
        "outputId": "5b48bbef-192b-47ba-ed72-1d8cf9b5fa15",
        "colab": {
          "base_uri": "https://localhost:8080/"
        }
      },
      "outputs": [
        {
          "output_type": "stream",
          "name": "stdout",
          "text": [
            "              precision    recall  f1-score   support\n",
            "\n",
            "           0       1.00      1.00      1.00         3\n",
            "           1       1.00      1.00      1.00         3\n",
            "           2       1.00      0.80      0.89         5\n",
            "           3       1.00      1.00      1.00         9\n",
            "           4       1.00      1.00      1.00         6\n",
            "           5       1.00      1.00      1.00         5\n",
            "           6       1.00      1.00      1.00         9\n",
            "           7       1.00      1.00      1.00         7\n",
            "           8       1.00      0.91      0.95        11\n",
            "           9       1.00      1.00      1.00         9\n",
            "          10       1.00      1.00      1.00         8\n",
            "          11       0.90      1.00      0.95         9\n",
            "          12       1.00      1.00      1.00         5\n",
            "          13       1.00      1.00      1.00         9\n",
            "          14       1.00      1.00      1.00         7\n",
            "          15       1.00      1.00      1.00        19\n",
            "          16       1.00      1.00      1.00         3\n",
            "          17       1.00      1.00      1.00         4\n",
            "          18       1.00      1.00      1.00         5\n",
            "          19       1.00      1.00      1.00         6\n",
            "          20       1.00      1.00      1.00        11\n",
            "          21       1.00      1.00      1.00         4\n",
            "          22       1.00      1.00      1.00        13\n",
            "          23       1.00      1.00      1.00        15\n",
            "          24       0.89      1.00      0.94         8\n",
            "\n",
            "    accuracy                           0.99       193\n",
            "   macro avg       0.99      0.99      0.99       193\n",
            "weighted avg       0.99      0.99      0.99       193\n",
            "\n"
          ]
        }
      ],
      "source": [
        "print(classification_report(y_test, prediction))"
      ]
    }
  ],
  "metadata": {
    "kernelspec": {
      "display_name": "Python 3",
      "language": "python",
      "name": "python3"
    },
    "language_info": {
      "codemirror_mode": {
        "name": "ipython",
        "version": 3
      },
      "file_extension": ".py",
      "mimetype": "text/x-python",
      "name": "python",
      "nbconvert_exporter": "python",
      "pygments_lexer": "ipython3",
      "version": "3.10.12"
    },
    "papermill": {
      "default_parameters": {},
      "duration": 25.075065,
      "end_time": "2023-07-16T17:13:22.037956",
      "environment_variables": {},
      "exception": null,
      "input_path": "__notebook__.ipynb",
      "output_path": "__notebook__.ipynb",
      "parameters": {},
      "start_time": "2023-07-16T17:12:56.962891",
      "version": "2.4.0"
    },
    "colab": {
      "provenance": []
    }
  },
  "nbformat": 4,
  "nbformat_minor": 5
}